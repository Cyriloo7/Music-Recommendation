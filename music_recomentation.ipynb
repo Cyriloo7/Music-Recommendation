{
  "cells": [
    {
      "cell_type": "code",
      "execution_count": 163,
      "metadata": {
        "id": "lxiblsoGQ7KL",
        "outputId": "696894fc-5601-41ab-f0fe-e7d2abf5b1f9"
      },
      "outputs": [
        {
          "data": {
            "text/plain": [
              "[]"
            ]
          },
          "execution_count": 163,
          "metadata": {},
          "output_type": "execute_result"
        }
      ],
      "source": [
        "import tensorflow as tf\n",
        "tf.config.list_physical_devices(\"GPU\")"
      ]
    },
    {
      "cell_type": "code",
      "execution_count": 164,
      "metadata": {
        "id": "oIbWfeupQ7KN"
      },
      "outputs": [],
      "source": [
        "import pandas as pd\n",
        "import py7zr"
      ]
    },
    {
      "cell_type": "code",
      "execution_count": 165,
      "metadata": {
        "id": "U3sRoucHQ7KO",
        "outputId": "44dfe54c-ac86-45b5-ae2d-84bd41a2c13c"
      },
      "outputs": [],
      "source": [
        "\n",
        "\"\"\"\n",
        "with py7zr.SevenZipFile(r'C:\\Users\\cyril\\OneDrive\\Pictures\\Internship\\Music recomentation\\kkbox-music-recommendation-challenge/songs.csv.7z', mode='r') as z:\n",
        "    z.extractall(path=r'C:\\Users\\cyril\\OneDrive\\Pictures\\Internship\\Music recomentation\\kkbox-music-recommendation-challenge')\n",
        "\n",
        "with py7zr.SevenZipFile(r'C:\\Users\\cyril\\OneDrive\\Pictures\\Internship\\Music recomentation\\kkbox-music-recommendation-challenge/members.csv.7z', mode='r') as z:\n",
        "    z.extractall(path=r'C:\\Users\\cyril\\OneDrive\\Pictures\\Internship\\Music recomentation\\kkbox-music-recommendation-challenge')\n",
        "\n",
        "with py7zr.SevenZipFile(r'C:\\Users\\cyril\\OneDrive\\Pictures\\Internship\\Music recomentation\\kkbox-music-recommendation-challenge/song_extra_info.csv.7z', mode='r') as z:\n",
        "    z.extractall(path=r'C:\\Users\\cyril\\OneDrive\\Pictures\\Internship\\Music recomentation\\kkbox-music-recommendation-challenge/music')\n",
        "\n",
        "with py7zr.SevenZipFile(r'C:\\Users\\cyril\\OneDrive\\Pictures\\Internship\\Music recomentation\\kkbox-music-recommendation-challenge/train.csv.7z', mode='r') as z:\n",
        "    z.extractall(path=r'C:\\Users\\cyril\\OneDrive\\Pictures\\Internship\\Music recomentation\\kkbox-music-recommendation-challenge')\n",
        "\n",
        "with py7zr.SevenZipFile(r'C:\\Users\\cyril\\OneDrive\\Pictures\\Internship\\Music recomentation\\kkbox-music-recommendation-challenge/test.csv.7z', mode='r') as z:\n",
        "    z.extractall(path=r'C:\\Users\\cyril\\OneDrive\\Pictures\\Internship\\Music recomentation\\kkbox-music-recommendation-challenge')\n",
        "\"\"\""
      ]
    },
    {
      "cell_type": "code",
      "execution_count": 166,
      "metadata": {
        "id": "1D-DAuMhQ7KO"
      },
      "outputs": [],
      "source": [
        "songs = pd.read_csv(r\"C:\\Users\\cyril\\OneDrive\\Pictures\\Internship\\Music recomentation\\kkbox-music-recommendation-challenge/songs.csv\")\n",
        "#song_extra = pd.read_csv(r\"C:\\Users\\cyril\\OneDrive\\Pictures\\Internship\\Music recomentation\\kkbox-music-recommendation-challenge/song_extra_info.csv\")\n",
        "members = pd.read_csv(r\"C:\\Users\\cyril\\OneDrive\\Pictures\\Internship\\Music recomentation\\kkbox-music-recommendation-challenge/members.csv\")\n",
        "train = pd.read_csv(r\"C:\\Users\\cyril\\OneDrive\\Pictures\\Internship\\Music recomentation\\kkbox-music-recommendation-challenge/train.csv\")\n",
        "test = pd.read_csv(r\"C:\\Users\\cyril\\OneDrive\\Pictures\\Internship\\Music recomentation\\kkbox-music-recommendation-challenge/test.csv\")"
      ]
    },
    {
      "cell_type": "markdown",
      "metadata": {
        "id": "y3oKVT2RQ7KO"
      },
      "source": [
        "### analysing"
      ]
    },
    {
      "cell_type": "code",
      "execution_count": 167,
      "metadata": {
        "id": "Lw2xcTpqQ7KP",
        "outputId": "ce273371-1e9a-489b-87d2-5ad810001d0d"
      },
      "outputs": [
        {
          "name": "stdout",
          "output_type": "stream",
          "text": [
            "<class 'pandas.core.frame.DataFrame'>\n",
            "RangeIndex: 2296320 entries, 0 to 2296319\n",
            "Data columns (total 7 columns):\n",
            " #   Column       Dtype  \n",
            "---  ------       -----  \n",
            " 0   song_id      object \n",
            " 1   song_length  int64  \n",
            " 2   genre_ids    object \n",
            " 3   artist_name  object \n",
            " 4   composer     object \n",
            " 5   lyricist     object \n",
            " 6   language     float64\n",
            "dtypes: float64(1), int64(1), object(5)\n",
            "memory usage: 122.6+ MB\n"
          ]
        },
        {
          "data": {
            "text/html": [
              "<div>\n",
              "<style scoped>\n",
              "    .dataframe tbody tr th:only-of-type {\n",
              "        vertical-align: middle;\n",
              "    }\n",
              "\n",
              "    .dataframe tbody tr th {\n",
              "        vertical-align: top;\n",
              "    }\n",
              "\n",
              "    .dataframe thead th {\n",
              "        text-align: right;\n",
              "    }\n",
              "</style>\n",
              "<table border=\"1\" class=\"dataframe\">\n",
              "  <thead>\n",
              "    <tr style=\"text-align: right;\">\n",
              "      <th></th>\n",
              "      <th>song_id</th>\n",
              "      <th>song_length</th>\n",
              "      <th>genre_ids</th>\n",
              "      <th>artist_name</th>\n",
              "      <th>composer</th>\n",
              "      <th>lyricist</th>\n",
              "      <th>language</th>\n",
              "    </tr>\n",
              "  </thead>\n",
              "  <tbody>\n",
              "    <tr>\n",
              "      <th>0</th>\n",
              "      <td>CXoTN1eb7AI+DntdU1vbcwGRV4SCIDxZu+YD8JP8r4E=</td>\n",
              "      <td>247640</td>\n",
              "      <td>465</td>\n",
              "      <td>張信哲 (Jeff Chang)</td>\n",
              "      <td>董貞</td>\n",
              "      <td>何啟弘</td>\n",
              "      <td>3.0</td>\n",
              "    </tr>\n",
              "    <tr>\n",
              "      <th>1</th>\n",
              "      <td>o0kFgae9QtnYgRkVPqLJwa05zIhRlUjfF7O1tDw0ZDU=</td>\n",
              "      <td>197328</td>\n",
              "      <td>444</td>\n",
              "      <td>BLACKPINK</td>\n",
              "      <td>TEDDY|  FUTURE BOUNCE|  Bekuh BOOM</td>\n",
              "      <td>TEDDY</td>\n",
              "      <td>31.0</td>\n",
              "    </tr>\n",
              "    <tr>\n",
              "      <th>2</th>\n",
              "      <td>DwVvVurfpuz+XPuFvucclVQEyPqcpUkHR0ne1RQzPs0=</td>\n",
              "      <td>231781</td>\n",
              "      <td>465</td>\n",
              "      <td>SUPER JUNIOR</td>\n",
              "      <td>NaN</td>\n",
              "      <td>NaN</td>\n",
              "      <td>31.0</td>\n",
              "    </tr>\n",
              "    <tr>\n",
              "      <th>3</th>\n",
              "      <td>dKMBWoZyScdxSkihKG+Vf47nc18N9q4m58+b4e7dSSE=</td>\n",
              "      <td>273554</td>\n",
              "      <td>465</td>\n",
              "      <td>S.H.E</td>\n",
              "      <td>湯小康</td>\n",
              "      <td>徐世珍</td>\n",
              "      <td>3.0</td>\n",
              "    </tr>\n",
              "    <tr>\n",
              "      <th>4</th>\n",
              "      <td>W3bqWd3T+VeHFzHAUfARgW9AvVRaF4N5Yzm4Mr6Eo/o=</td>\n",
              "      <td>140329</td>\n",
              "      <td>726</td>\n",
              "      <td>貴族精選</td>\n",
              "      <td>Traditional</td>\n",
              "      <td>Traditional</td>\n",
              "      <td>52.0</td>\n",
              "    </tr>\n",
              "  </tbody>\n",
              "</table>\n",
              "</div>"
            ],
            "text/plain": [
              "                                        song_id  song_length genre_ids  \\\n",
              "0  CXoTN1eb7AI+DntdU1vbcwGRV4SCIDxZu+YD8JP8r4E=       247640       465   \n",
              "1  o0kFgae9QtnYgRkVPqLJwa05zIhRlUjfF7O1tDw0ZDU=       197328       444   \n",
              "2  DwVvVurfpuz+XPuFvucclVQEyPqcpUkHR0ne1RQzPs0=       231781       465   \n",
              "3  dKMBWoZyScdxSkihKG+Vf47nc18N9q4m58+b4e7dSSE=       273554       465   \n",
              "4  W3bqWd3T+VeHFzHAUfARgW9AvVRaF4N5Yzm4Mr6Eo/o=       140329       726   \n",
              "\n",
              "        artist_name                            composer     lyricist  language  \n",
              "0  張信哲 (Jeff Chang)                                  董貞          何啟弘       3.0  \n",
              "1         BLACKPINK  TEDDY|  FUTURE BOUNCE|  Bekuh BOOM        TEDDY      31.0  \n",
              "2      SUPER JUNIOR                                 NaN          NaN      31.0  \n",
              "3             S.H.E                                 湯小康          徐世珍       3.0  \n",
              "4              貴族精選                         Traditional  Traditional      52.0  "
            ]
          },
          "execution_count": 167,
          "metadata": {},
          "output_type": "execute_result"
        }
      ],
      "source": [
        "songs.info()\n",
        "songs.head()"
      ]
    },
    {
      "cell_type": "code",
      "execution_count": 168,
      "metadata": {
        "id": "gfaQa5-xQ7KQ",
        "outputId": "67d76ea3-3f19-4b61-bebb-36d6993a2be8"
      },
      "outputs": [
        {
          "ename": "NameError",
          "evalue": "name 'song_extra' is not defined",
          "output_type": "error",
          "traceback": [
            "\u001b[1;31m---------------------------------------------------------------------------\u001b[0m",
            "\u001b[1;31mNameError\u001b[0m                                 Traceback (most recent call last)",
            "\u001b[1;32mc:\\Users\\cyril\\OneDrive\\Pictures\\Internship\\Music recomentation\\music_recomentation.ipynb Cell 7\u001b[0m line \u001b[0;36m1\n\u001b[1;32m----> <a href='vscode-notebook-cell:/c%3A/Users/cyril/OneDrive/Pictures/Internship/Music%20recomentation/music_recomentation.ipynb#W6sZmlsZQ%3D%3D?line=0'>1</a>\u001b[0m song_extra\u001b[39m.\u001b[39minfo()\n\u001b[0;32m      <a href='vscode-notebook-cell:/c%3A/Users/cyril/OneDrive/Pictures/Internship/Music%20recomentation/music_recomentation.ipynb#W6sZmlsZQ%3D%3D?line=1'>2</a>\u001b[0m song_extra\u001b[39m.\u001b[39mhead()\n",
            "\u001b[1;31mNameError\u001b[0m: name 'song_extra' is not defined"
          ]
        }
      ],
      "source": [
        "song_extra.info()\n",
        "song_extra.head()"
      ]
    },
    {
      "cell_type": "code",
      "execution_count": 169,
      "metadata": {
        "id": "3CeTsdLZQ7KQ",
        "outputId": "e5735f4d-65c9-455d-91a2-2de8c0c1f0da"
      },
      "outputs": [
        {
          "name": "stdout",
          "output_type": "stream",
          "text": [
            "<class 'pandas.core.frame.DataFrame'>\n",
            "RangeIndex: 34403 entries, 0 to 34402\n",
            "Data columns (total 7 columns):\n",
            " #   Column                  Non-Null Count  Dtype \n",
            "---  ------                  --------------  ----- \n",
            " 0   msno                    34403 non-null  object\n",
            " 1   city                    34403 non-null  int64 \n",
            " 2   bd                      34403 non-null  int64 \n",
            " 3   gender                  14501 non-null  object\n",
            " 4   registered_via          34403 non-null  int64 \n",
            " 5   registration_init_time  34403 non-null  int64 \n",
            " 6   expiration_date         34403 non-null  int64 \n",
            "dtypes: int64(5), object(2)\n",
            "memory usage: 1.8+ MB\n"
          ]
        },
        {
          "data": {
            "text/html": [
              "<div>\n",
              "<style scoped>\n",
              "    .dataframe tbody tr th:only-of-type {\n",
              "        vertical-align: middle;\n",
              "    }\n",
              "\n",
              "    .dataframe tbody tr th {\n",
              "        vertical-align: top;\n",
              "    }\n",
              "\n",
              "    .dataframe thead th {\n",
              "        text-align: right;\n",
              "    }\n",
              "</style>\n",
              "<table border=\"1\" class=\"dataframe\">\n",
              "  <thead>\n",
              "    <tr style=\"text-align: right;\">\n",
              "      <th></th>\n",
              "      <th>msno</th>\n",
              "      <th>city</th>\n",
              "      <th>bd</th>\n",
              "      <th>gender</th>\n",
              "      <th>registered_via</th>\n",
              "      <th>registration_init_time</th>\n",
              "      <th>expiration_date</th>\n",
              "    </tr>\n",
              "  </thead>\n",
              "  <tbody>\n",
              "    <tr>\n",
              "      <th>0</th>\n",
              "      <td>XQxgAYj3klVKjR3oxPPXYYFp4soD4TuBghkhMTD4oTw=</td>\n",
              "      <td>1</td>\n",
              "      <td>0</td>\n",
              "      <td>NaN</td>\n",
              "      <td>7</td>\n",
              "      <td>20110820</td>\n",
              "      <td>20170920</td>\n",
              "    </tr>\n",
              "    <tr>\n",
              "      <th>1</th>\n",
              "      <td>UizsfmJb9mV54qE9hCYyU07Va97c0lCRLEQX3ae+ztM=</td>\n",
              "      <td>1</td>\n",
              "      <td>0</td>\n",
              "      <td>NaN</td>\n",
              "      <td>7</td>\n",
              "      <td>20150628</td>\n",
              "      <td>20170622</td>\n",
              "    </tr>\n",
              "    <tr>\n",
              "      <th>2</th>\n",
              "      <td>D8nEhsIOBSoE6VthTaqDX8U6lqjJ7dLdr72mOyLya2A=</td>\n",
              "      <td>1</td>\n",
              "      <td>0</td>\n",
              "      <td>NaN</td>\n",
              "      <td>4</td>\n",
              "      <td>20160411</td>\n",
              "      <td>20170712</td>\n",
              "    </tr>\n",
              "    <tr>\n",
              "      <th>3</th>\n",
              "      <td>mCuD+tZ1hERA/o5GPqk38e041J8ZsBaLcu7nGoIIvhI=</td>\n",
              "      <td>1</td>\n",
              "      <td>0</td>\n",
              "      <td>NaN</td>\n",
              "      <td>9</td>\n",
              "      <td>20150906</td>\n",
              "      <td>20150907</td>\n",
              "    </tr>\n",
              "    <tr>\n",
              "      <th>4</th>\n",
              "      <td>q4HRBfVSssAFS9iRfxWrohxuk9kCYMKjHOEagUMV6rQ=</td>\n",
              "      <td>1</td>\n",
              "      <td>0</td>\n",
              "      <td>NaN</td>\n",
              "      <td>4</td>\n",
              "      <td>20170126</td>\n",
              "      <td>20170613</td>\n",
              "    </tr>\n",
              "  </tbody>\n",
              "</table>\n",
              "</div>"
            ],
            "text/plain": [
              "                                           msno  city  bd gender  \\\n",
              "0  XQxgAYj3klVKjR3oxPPXYYFp4soD4TuBghkhMTD4oTw=     1   0    NaN   \n",
              "1  UizsfmJb9mV54qE9hCYyU07Va97c0lCRLEQX3ae+ztM=     1   0    NaN   \n",
              "2  D8nEhsIOBSoE6VthTaqDX8U6lqjJ7dLdr72mOyLya2A=     1   0    NaN   \n",
              "3  mCuD+tZ1hERA/o5GPqk38e041J8ZsBaLcu7nGoIIvhI=     1   0    NaN   \n",
              "4  q4HRBfVSssAFS9iRfxWrohxuk9kCYMKjHOEagUMV6rQ=     1   0    NaN   \n",
              "\n",
              "   registered_via  registration_init_time  expiration_date  \n",
              "0               7                20110820         20170920  \n",
              "1               7                20150628         20170622  \n",
              "2               4                20160411         20170712  \n",
              "3               9                20150906         20150907  \n",
              "4               4                20170126         20170613  "
            ]
          },
          "execution_count": 169,
          "metadata": {},
          "output_type": "execute_result"
        }
      ],
      "source": [
        "members.info()\n",
        "members.head()"
      ]
    },
    {
      "cell_type": "code",
      "execution_count": 170,
      "metadata": {
        "id": "XImUySKHQ7KR",
        "outputId": "b9618b24-98b3-4f5f-c277-078b0fd225a5"
      },
      "outputs": [
        {
          "name": "stdout",
          "output_type": "stream",
          "text": [
            "<class 'pandas.core.frame.DataFrame'>\n",
            "RangeIndex: 7377418 entries, 0 to 7377417\n",
            "Data columns (total 6 columns):\n",
            " #   Column              Dtype \n",
            "---  ------              ----- \n",
            " 0   msno                object\n",
            " 1   song_id             object\n",
            " 2   source_system_tab   object\n",
            " 3   source_screen_name  object\n",
            " 4   source_type         object\n",
            " 5   target              int64 \n",
            "dtypes: int64(1), object(5)\n",
            "memory usage: 337.7+ MB\n"
          ]
        },
        {
          "data": {
            "text/html": [
              "<div>\n",
              "<style scoped>\n",
              "    .dataframe tbody tr th:only-of-type {\n",
              "        vertical-align: middle;\n",
              "    }\n",
              "\n",
              "    .dataframe tbody tr th {\n",
              "        vertical-align: top;\n",
              "    }\n",
              "\n",
              "    .dataframe thead th {\n",
              "        text-align: right;\n",
              "    }\n",
              "</style>\n",
              "<table border=\"1\" class=\"dataframe\">\n",
              "  <thead>\n",
              "    <tr style=\"text-align: right;\">\n",
              "      <th></th>\n",
              "      <th>msno</th>\n",
              "      <th>song_id</th>\n",
              "      <th>source_system_tab</th>\n",
              "      <th>source_screen_name</th>\n",
              "      <th>source_type</th>\n",
              "      <th>target</th>\n",
              "    </tr>\n",
              "  </thead>\n",
              "  <tbody>\n",
              "    <tr>\n",
              "      <th>0</th>\n",
              "      <td>FGtllVqz18RPiwJj/edr2gV78zirAiY/9SmYvia+kCg=</td>\n",
              "      <td>BBzumQNXUHKdEBOB7mAJuzok+IJA1c2Ryg/yzTF6tik=</td>\n",
              "      <td>explore</td>\n",
              "      <td>Explore</td>\n",
              "      <td>online-playlist</td>\n",
              "      <td>1</td>\n",
              "    </tr>\n",
              "    <tr>\n",
              "      <th>1</th>\n",
              "      <td>Xumu+NIjS6QYVxDS4/t3SawvJ7viT9hPKXmf0RtLNx8=</td>\n",
              "      <td>bhp/MpSNoqoxOIB+/l8WPqu6jldth4DIpCm3ayXnJqM=</td>\n",
              "      <td>my library</td>\n",
              "      <td>Local playlist more</td>\n",
              "      <td>local-playlist</td>\n",
              "      <td>1</td>\n",
              "    </tr>\n",
              "    <tr>\n",
              "      <th>2</th>\n",
              "      <td>Xumu+NIjS6QYVxDS4/t3SawvJ7viT9hPKXmf0RtLNx8=</td>\n",
              "      <td>JNWfrrC7zNN7BdMpsISKa4Mw+xVJYNnxXh3/Epw7QgY=</td>\n",
              "      <td>my library</td>\n",
              "      <td>Local playlist more</td>\n",
              "      <td>local-playlist</td>\n",
              "      <td>1</td>\n",
              "    </tr>\n",
              "    <tr>\n",
              "      <th>3</th>\n",
              "      <td>Xumu+NIjS6QYVxDS4/t3SawvJ7viT9hPKXmf0RtLNx8=</td>\n",
              "      <td>2A87tzfnJTSWqD7gIZHisolhe4DMdzkbd6LzO1KHjNs=</td>\n",
              "      <td>my library</td>\n",
              "      <td>Local playlist more</td>\n",
              "      <td>local-playlist</td>\n",
              "      <td>1</td>\n",
              "    </tr>\n",
              "    <tr>\n",
              "      <th>4</th>\n",
              "      <td>FGtllVqz18RPiwJj/edr2gV78zirAiY/9SmYvia+kCg=</td>\n",
              "      <td>3qm6XTZ6MOCU11x8FIVbAGH5l5uMkT3/ZalWG1oo2Gc=</td>\n",
              "      <td>explore</td>\n",
              "      <td>Explore</td>\n",
              "      <td>online-playlist</td>\n",
              "      <td>1</td>\n",
              "    </tr>\n",
              "  </tbody>\n",
              "</table>\n",
              "</div>"
            ],
            "text/plain": [
              "                                           msno  \\\n",
              "0  FGtllVqz18RPiwJj/edr2gV78zirAiY/9SmYvia+kCg=   \n",
              "1  Xumu+NIjS6QYVxDS4/t3SawvJ7viT9hPKXmf0RtLNx8=   \n",
              "2  Xumu+NIjS6QYVxDS4/t3SawvJ7viT9hPKXmf0RtLNx8=   \n",
              "3  Xumu+NIjS6QYVxDS4/t3SawvJ7viT9hPKXmf0RtLNx8=   \n",
              "4  FGtllVqz18RPiwJj/edr2gV78zirAiY/9SmYvia+kCg=   \n",
              "\n",
              "                                        song_id source_system_tab  \\\n",
              "0  BBzumQNXUHKdEBOB7mAJuzok+IJA1c2Ryg/yzTF6tik=           explore   \n",
              "1  bhp/MpSNoqoxOIB+/l8WPqu6jldth4DIpCm3ayXnJqM=        my library   \n",
              "2  JNWfrrC7zNN7BdMpsISKa4Mw+xVJYNnxXh3/Epw7QgY=        my library   \n",
              "3  2A87tzfnJTSWqD7gIZHisolhe4DMdzkbd6LzO1KHjNs=        my library   \n",
              "4  3qm6XTZ6MOCU11x8FIVbAGH5l5uMkT3/ZalWG1oo2Gc=           explore   \n",
              "\n",
              "    source_screen_name      source_type  target  \n",
              "0              Explore  online-playlist       1  \n",
              "1  Local playlist more   local-playlist       1  \n",
              "2  Local playlist more   local-playlist       1  \n",
              "3  Local playlist more   local-playlist       1  \n",
              "4              Explore  online-playlist       1  "
            ]
          },
          "execution_count": 170,
          "metadata": {},
          "output_type": "execute_result"
        }
      ],
      "source": [
        "train.info()\n",
        "train.head()"
      ]
    },
    {
      "cell_type": "code",
      "execution_count": 171,
      "metadata": {
        "id": "T1ECblVBQ7KR",
        "outputId": "928a2796-8625-46fa-a7c6-44d33e96b50f"
      },
      "outputs": [
        {
          "name": "stdout",
          "output_type": "stream",
          "text": [
            "<class 'pandas.core.frame.DataFrame'>\n",
            "RangeIndex: 2556790 entries, 0 to 2556789\n",
            "Data columns (total 6 columns):\n",
            " #   Column              Dtype \n",
            "---  ------              ----- \n",
            " 0   id                  int64 \n",
            " 1   msno                object\n",
            " 2   song_id             object\n",
            " 3   source_system_tab   object\n",
            " 4   source_screen_name  object\n",
            " 5   source_type         object\n",
            "dtypes: int64(1), object(5)\n",
            "memory usage: 117.0+ MB\n"
          ]
        },
        {
          "data": {
            "text/plain": [
              "id                         0\n",
              "msno                       0\n",
              "song_id                    0\n",
              "source_system_tab       8442\n",
              "source_screen_name    162883\n",
              "source_type             7297\n",
              "dtype: int64"
            ]
          },
          "execution_count": 171,
          "metadata": {},
          "output_type": "execute_result"
        }
      ],
      "source": [
        "test.info()\n",
        "test.head()\n",
        "test.isnull().sum()"
      ]
    },
    {
      "cell_type": "markdown",
      "metadata": {
        "id": "fhV3aeb7Q7KS"
      },
      "source": [
        "## Train and Test"
      ]
    },
    {
      "cell_type": "code",
      "execution_count": 172,
      "metadata": {
        "id": "9EQViLjfQ7KS",
        "outputId": "a8123dab-99ec-4d34-9963-d85ef4a6645b"
      },
      "outputs": [
        {
          "data": {
            "text/html": [
              "<div>\n",
              "<style scoped>\n",
              "    .dataframe tbody tr th:only-of-type {\n",
              "        vertical-align: middle;\n",
              "    }\n",
              "\n",
              "    .dataframe tbody tr th {\n",
              "        vertical-align: top;\n",
              "    }\n",
              "\n",
              "    .dataframe thead th {\n",
              "        text-align: right;\n",
              "    }\n",
              "</style>\n",
              "<table border=\"1\" class=\"dataframe\">\n",
              "  <thead>\n",
              "    <tr style=\"text-align: right;\">\n",
              "      <th></th>\n",
              "      <th>msno</th>\n",
              "      <th>song_id</th>\n",
              "      <th>source_system_tab</th>\n",
              "      <th>source_screen_name</th>\n",
              "      <th>source_type</th>\n",
              "      <th>target</th>\n",
              "      <th>song_length</th>\n",
              "      <th>genre_ids</th>\n",
              "      <th>artist_name</th>\n",
              "      <th>composer</th>\n",
              "      <th>lyricist</th>\n",
              "      <th>language</th>\n",
              "    </tr>\n",
              "  </thead>\n",
              "  <tbody>\n",
              "    <tr>\n",
              "      <th>0</th>\n",
              "      <td>FGtllVqz18RPiwJj/edr2gV78zirAiY/9SmYvia+kCg=</td>\n",
              "      <td>BBzumQNXUHKdEBOB7mAJuzok+IJA1c2Ryg/yzTF6tik=</td>\n",
              "      <td>explore</td>\n",
              "      <td>Explore</td>\n",
              "      <td>online-playlist</td>\n",
              "      <td>1</td>\n",
              "      <td>206471</td>\n",
              "      <td>359</td>\n",
              "      <td>Bastille</td>\n",
              "      <td>Dan Smith| Mark Crew</td>\n",
              "      <td>NaN</td>\n",
              "      <td>52.0</td>\n",
              "    </tr>\n",
              "    <tr>\n",
              "      <th>1</th>\n",
              "      <td>e5Ezre9HPuPos+CXQXtmo32E/hHIZTMmo6jG3yRf6UA=</td>\n",
              "      <td>BBzumQNXUHKdEBOB7mAJuzok+IJA1c2Ryg/yzTF6tik=</td>\n",
              "      <td>my library</td>\n",
              "      <td>Local playlist more</td>\n",
              "      <td>local-playlist</td>\n",
              "      <td>1</td>\n",
              "      <td>206471</td>\n",
              "      <td>359</td>\n",
              "      <td>Bastille</td>\n",
              "      <td>Dan Smith| Mark Crew</td>\n",
              "      <td>NaN</td>\n",
              "      <td>52.0</td>\n",
              "    </tr>\n",
              "    <tr>\n",
              "      <th>2</th>\n",
              "      <td>pouJqjNRmZOnRNzzMWWkamTKkIGHyvhl/jo4HgbncnM=</td>\n",
              "      <td>BBzumQNXUHKdEBOB7mAJuzok+IJA1c2Ryg/yzTF6tik=</td>\n",
              "      <td>discover</td>\n",
              "      <td>Online playlist more</td>\n",
              "      <td>online-playlist</td>\n",
              "      <td>0</td>\n",
              "      <td>206471</td>\n",
              "      <td>359</td>\n",
              "      <td>Bastille</td>\n",
              "      <td>Dan Smith| Mark Crew</td>\n",
              "      <td>NaN</td>\n",
              "      <td>52.0</td>\n",
              "    </tr>\n",
              "    <tr>\n",
              "      <th>3</th>\n",
              "      <td>sSexP400TJOZRhx3JB+0s9cqrCnqrlV51B9njoKR1II=</td>\n",
              "      <td>BBzumQNXUHKdEBOB7mAJuzok+IJA1c2Ryg/yzTF6tik=</td>\n",
              "      <td>discover</td>\n",
              "      <td>Online playlist more</td>\n",
              "      <td>online-playlist</td>\n",
              "      <td>0</td>\n",
              "      <td>206471</td>\n",
              "      <td>359</td>\n",
              "      <td>Bastille</td>\n",
              "      <td>Dan Smith| Mark Crew</td>\n",
              "      <td>NaN</td>\n",
              "      <td>52.0</td>\n",
              "    </tr>\n",
              "    <tr>\n",
              "      <th>4</th>\n",
              "      <td>hKdGiUKHVqKkXGHLrc+EzdSW6q0ERAJ2Cs7/L1N0Ae4=</td>\n",
              "      <td>BBzumQNXUHKdEBOB7mAJuzok+IJA1c2Ryg/yzTF6tik=</td>\n",
              "      <td>discover</td>\n",
              "      <td>NaN</td>\n",
              "      <td>online-playlist</td>\n",
              "      <td>0</td>\n",
              "      <td>206471</td>\n",
              "      <td>359</td>\n",
              "      <td>Bastille</td>\n",
              "      <td>Dan Smith| Mark Crew</td>\n",
              "      <td>NaN</td>\n",
              "      <td>52.0</td>\n",
              "    </tr>\n",
              "    <tr>\n",
              "      <th>...</th>\n",
              "      <td>...</td>\n",
              "      <td>...</td>\n",
              "      <td>...</td>\n",
              "      <td>...</td>\n",
              "      <td>...</td>\n",
              "      <td>...</td>\n",
              "      <td>...</td>\n",
              "      <td>...</td>\n",
              "      <td>...</td>\n",
              "      <td>...</td>\n",
              "      <td>...</td>\n",
              "      <td>...</td>\n",
              "    </tr>\n",
              "    <tr>\n",
              "      <th>7377299</th>\n",
              "      <td>wCGT5Nb+vL9GXEZ87Kp8BAqFOVZugZSxG1706efctMU=</td>\n",
              "      <td>FmdO/4DNXqJWwA0FH2LEdvy/WuUU/Aq2DKlbFvQT6oY=</td>\n",
              "      <td>discover</td>\n",
              "      <td>Discover Genre</td>\n",
              "      <td>album</td>\n",
              "      <td>0</td>\n",
              "      <td>397479</td>\n",
              "      <td>2079</td>\n",
              "      <td>Chaandanee</td>\n",
              "      <td>Chaandanee</td>\n",
              "      <td>Chaandanee</td>\n",
              "      <td>52.0</td>\n",
              "    </tr>\n",
              "    <tr>\n",
              "      <th>7377300</th>\n",
              "      <td>wCGT5Nb+vL9GXEZ87Kp8BAqFOVZugZSxG1706efctMU=</td>\n",
              "      <td>qzY5KBI8QBg1fs/qrhNm1KLe7lVbjYRbNtA595gl9vQ=</td>\n",
              "      <td>discover</td>\n",
              "      <td>Discover Genre</td>\n",
              "      <td>album</td>\n",
              "      <td>0</td>\n",
              "      <td>420911</td>\n",
              "      <td>2079</td>\n",
              "      <td>Chaandanee</td>\n",
              "      <td>Chaandanee</td>\n",
              "      <td>Chaandanee</td>\n",
              "      <td>52.0</td>\n",
              "    </tr>\n",
              "    <tr>\n",
              "      <th>7377301</th>\n",
              "      <td>OHw2qQArWtGlk/gthkEt8WmDnx/1SxLgeqXisMzhHyM=</td>\n",
              "      <td>SZZUaT+kWlIDkjgJqK5VJls94gArFT1BgkrFLjvJVIc=</td>\n",
              "      <td>my library</td>\n",
              "      <td>Online playlist more</td>\n",
              "      <td>online-playlist</td>\n",
              "      <td>0</td>\n",
              "      <td>226348</td>\n",
              "      <td>958</td>\n",
              "      <td>Francis Goya</td>\n",
              "      <td>Wallux| F.Weyer</td>\n",
              "      <td>NaN</td>\n",
              "      <td>-1.0</td>\n",
              "    </tr>\n",
              "    <tr>\n",
              "      <th>7377302</th>\n",
              "      <td>AkvLFGpB1EDBAQBa1xgCq3hq8hoFRsV+AO0ezHdCVN4=</td>\n",
              "      <td>7+DNPp8HiFDXlQmNejGezfdJ15eXGms1PmRCwtc+zVQ=</td>\n",
              "      <td>discover</td>\n",
              "      <td>Online playlist more</td>\n",
              "      <td>song-based-playlist</td>\n",
              "      <td>1</td>\n",
              "      <td>198949</td>\n",
              "      <td>465</td>\n",
              "      <td>Salvina y Miren al Lobo</td>\n",
              "      <td>NaN</td>\n",
              "      <td>NaN</td>\n",
              "      <td>52.0</td>\n",
              "    </tr>\n",
              "    <tr>\n",
              "      <th>7377303</th>\n",
              "      <td>j7NK18jKavoyccmVEC/BCtiXbUsfLfmAGFAsgZKSJ0E=</td>\n",
              "      <td>WJzitiYM7ddyalCdx8/Gkkt1UFSp2t/0ZY74CrMGvWg=</td>\n",
              "      <td>my library</td>\n",
              "      <td>Search</td>\n",
              "      <td>song</td>\n",
              "      <td>0</td>\n",
              "      <td>136032</td>\n",
              "      <td>1609|947</td>\n",
              "      <td>証聲音樂圖書館 ECHO MUSIC</td>\n",
              "      <td>Sutton</td>\n",
              "      <td>NaN</td>\n",
              "      <td>52.0</td>\n",
              "    </tr>\n",
              "  </tbody>\n",
              "</table>\n",
              "<p>7377304 rows × 12 columns</p>\n",
              "</div>"
            ],
            "text/plain": [
              "                                                 msno  \\\n",
              "0        FGtllVqz18RPiwJj/edr2gV78zirAiY/9SmYvia+kCg=   \n",
              "1        e5Ezre9HPuPos+CXQXtmo32E/hHIZTMmo6jG3yRf6UA=   \n",
              "2        pouJqjNRmZOnRNzzMWWkamTKkIGHyvhl/jo4HgbncnM=   \n",
              "3        sSexP400TJOZRhx3JB+0s9cqrCnqrlV51B9njoKR1II=   \n",
              "4        hKdGiUKHVqKkXGHLrc+EzdSW6q0ERAJ2Cs7/L1N0Ae4=   \n",
              "...                                               ...   \n",
              "7377299  wCGT5Nb+vL9GXEZ87Kp8BAqFOVZugZSxG1706efctMU=   \n",
              "7377300  wCGT5Nb+vL9GXEZ87Kp8BAqFOVZugZSxG1706efctMU=   \n",
              "7377301  OHw2qQArWtGlk/gthkEt8WmDnx/1SxLgeqXisMzhHyM=   \n",
              "7377302  AkvLFGpB1EDBAQBa1xgCq3hq8hoFRsV+AO0ezHdCVN4=   \n",
              "7377303  j7NK18jKavoyccmVEC/BCtiXbUsfLfmAGFAsgZKSJ0E=   \n",
              "\n",
              "                                              song_id source_system_tab  \\\n",
              "0        BBzumQNXUHKdEBOB7mAJuzok+IJA1c2Ryg/yzTF6tik=           explore   \n",
              "1        BBzumQNXUHKdEBOB7mAJuzok+IJA1c2Ryg/yzTF6tik=        my library   \n",
              "2        BBzumQNXUHKdEBOB7mAJuzok+IJA1c2Ryg/yzTF6tik=          discover   \n",
              "3        BBzumQNXUHKdEBOB7mAJuzok+IJA1c2Ryg/yzTF6tik=          discover   \n",
              "4        BBzumQNXUHKdEBOB7mAJuzok+IJA1c2Ryg/yzTF6tik=          discover   \n",
              "...                                               ...               ...   \n",
              "7377299  FmdO/4DNXqJWwA0FH2LEdvy/WuUU/Aq2DKlbFvQT6oY=          discover   \n",
              "7377300  qzY5KBI8QBg1fs/qrhNm1KLe7lVbjYRbNtA595gl9vQ=          discover   \n",
              "7377301  SZZUaT+kWlIDkjgJqK5VJls94gArFT1BgkrFLjvJVIc=        my library   \n",
              "7377302  7+DNPp8HiFDXlQmNejGezfdJ15eXGms1PmRCwtc+zVQ=          discover   \n",
              "7377303  WJzitiYM7ddyalCdx8/Gkkt1UFSp2t/0ZY74CrMGvWg=        my library   \n",
              "\n",
              "           source_screen_name          source_type  target  song_length  \\\n",
              "0                     Explore      online-playlist       1       206471   \n",
              "1         Local playlist more       local-playlist       1       206471   \n",
              "2        Online playlist more      online-playlist       0       206471   \n",
              "3        Online playlist more      online-playlist       0       206471   \n",
              "4                         NaN      online-playlist       0       206471   \n",
              "...                       ...                  ...     ...          ...   \n",
              "7377299        Discover Genre                album       0       397479   \n",
              "7377300        Discover Genre                album       0       420911   \n",
              "7377301  Online playlist more      online-playlist       0       226348   \n",
              "7377302  Online playlist more  song-based-playlist       1       198949   \n",
              "7377303                Search                 song       0       136032   \n",
              "\n",
              "        genre_ids              artist_name              composer    lyricist  \\\n",
              "0             359                 Bastille  Dan Smith| Mark Crew         NaN   \n",
              "1             359                 Bastille  Dan Smith| Mark Crew         NaN   \n",
              "2             359                 Bastille  Dan Smith| Mark Crew         NaN   \n",
              "3             359                 Bastille  Dan Smith| Mark Crew         NaN   \n",
              "4             359                 Bastille  Dan Smith| Mark Crew         NaN   \n",
              "...           ...                      ...                   ...         ...   \n",
              "7377299      2079               Chaandanee            Chaandanee  Chaandanee   \n",
              "7377300      2079               Chaandanee            Chaandanee  Chaandanee   \n",
              "7377301       958             Francis Goya       Wallux| F.Weyer         NaN   \n",
              "7377302       465  Salvina y Miren al Lobo                   NaN         NaN   \n",
              "7377303  1609|947       証聲音樂圖書館 ECHO MUSIC                Sutton         NaN   \n",
              "\n",
              "         language  \n",
              "0            52.0  \n",
              "1            52.0  \n",
              "2            52.0  \n",
              "3            52.0  \n",
              "4            52.0  \n",
              "...           ...  \n",
              "7377299      52.0  \n",
              "7377300      52.0  \n",
              "7377301      -1.0  \n",
              "7377302      52.0  \n",
              "7377303      52.0  \n",
              "\n",
              "[7377304 rows x 12 columns]"
            ]
          },
          "execution_count": 172,
          "metadata": {},
          "output_type": "execute_result"
        }
      ],
      "source": [
        "df = pd.DataFrame(pd.merge(train, songs, on='song_id'))\n",
        "df"
      ]
    },
    {
      "cell_type": "code",
      "execution_count": 173,
      "metadata": {
        "id": "AVlMABFMQ7KS",
        "outputId": "1c5fe15b-51ab-4451-de87-1efe7f3e3860"
      },
      "outputs": [
        {
          "data": {
            "text/html": [
              "<div>\n",
              "<style scoped>\n",
              "    .dataframe tbody tr th:only-of-type {\n",
              "        vertical-align: middle;\n",
              "    }\n",
              "\n",
              "    .dataframe tbody tr th {\n",
              "        vertical-align: top;\n",
              "    }\n",
              "\n",
              "    .dataframe thead th {\n",
              "        text-align: right;\n",
              "    }\n",
              "</style>\n",
              "<table border=\"1\" class=\"dataframe\">\n",
              "  <thead>\n",
              "    <tr style=\"text-align: right;\">\n",
              "      <th></th>\n",
              "      <th>id</th>\n",
              "      <th>msno</th>\n",
              "      <th>song_id</th>\n",
              "      <th>source_system_tab</th>\n",
              "      <th>source_screen_name</th>\n",
              "      <th>source_type</th>\n",
              "      <th>song_length</th>\n",
              "      <th>genre_ids</th>\n",
              "      <th>artist_name</th>\n",
              "      <th>composer</th>\n",
              "      <th>lyricist</th>\n",
              "      <th>language</th>\n",
              "    </tr>\n",
              "  </thead>\n",
              "  <tbody>\n",
              "    <tr>\n",
              "      <th>0</th>\n",
              "      <td>0</td>\n",
              "      <td>V8ruy7SGk7tDm3zA51DPpn6qutt+vmKMBKa21dp54uM=</td>\n",
              "      <td>WmHKgKMlp1lQMecNdNvDMkvIycZYHnFwDT72I5sIssc=</td>\n",
              "      <td>my library</td>\n",
              "      <td>Local playlist more</td>\n",
              "      <td>local-library</td>\n",
              "      <td>224130</td>\n",
              "      <td>458</td>\n",
              "      <td>梁文音 (Rachel Liang)</td>\n",
              "      <td>Qi Zheng Zhang</td>\n",
              "      <td>NaN</td>\n",
              "      <td>3.0</td>\n",
              "    </tr>\n",
              "    <tr>\n",
              "      <th>1</th>\n",
              "      <td>2954</td>\n",
              "      <td>mp5bRgC7VAhEpWlAiOn4jG8CD9FJZt7725f93t5i99M=</td>\n",
              "      <td>WmHKgKMlp1lQMecNdNvDMkvIycZYHnFwDT72I5sIssc=</td>\n",
              "      <td>my library</td>\n",
              "      <td>Search</td>\n",
              "      <td>song</td>\n",
              "      <td>224130</td>\n",
              "      <td>458</td>\n",
              "      <td>梁文音 (Rachel Liang)</td>\n",
              "      <td>Qi Zheng Zhang</td>\n",
              "      <td>NaN</td>\n",
              "      <td>3.0</td>\n",
              "    </tr>\n",
              "    <tr>\n",
              "      <th>2</th>\n",
              "      <td>14420</td>\n",
              "      <td>NSBR1BrOO3XDapGQCMi19nRidHD4qzoEXbGGnBap/e0=</td>\n",
              "      <td>WmHKgKMlp1lQMecNdNvDMkvIycZYHnFwDT72I5sIssc=</td>\n",
              "      <td>my library</td>\n",
              "      <td>Local playlist more</td>\n",
              "      <td>local-playlist</td>\n",
              "      <td>224130</td>\n",
              "      <td>458</td>\n",
              "      <td>梁文音 (Rachel Liang)</td>\n",
              "      <td>Qi Zheng Zhang</td>\n",
              "      <td>NaN</td>\n",
              "      <td>3.0</td>\n",
              "    </tr>\n",
              "    <tr>\n",
              "      <th>3</th>\n",
              "      <td>17473</td>\n",
              "      <td>kvRxHi514EY2/4FzahC/vBf/Zn13/3ZwXweeepjewzk=</td>\n",
              "      <td>WmHKgKMlp1lQMecNdNvDMkvIycZYHnFwDT72I5sIssc=</td>\n",
              "      <td>my library</td>\n",
              "      <td>Local playlist more</td>\n",
              "      <td>local-playlist</td>\n",
              "      <td>224130</td>\n",
              "      <td>458</td>\n",
              "      <td>梁文音 (Rachel Liang)</td>\n",
              "      <td>Qi Zheng Zhang</td>\n",
              "      <td>NaN</td>\n",
              "      <td>3.0</td>\n",
              "    </tr>\n",
              "    <tr>\n",
              "      <th>4</th>\n",
              "      <td>32738</td>\n",
              "      <td>Qh0RP1Refm1D6eV5PjusX+agjnNczGUR8eeWBGj3UvU=</td>\n",
              "      <td>WmHKgKMlp1lQMecNdNvDMkvIycZYHnFwDT72I5sIssc=</td>\n",
              "      <td>my library</td>\n",
              "      <td>Local playlist more</td>\n",
              "      <td>local-playlist</td>\n",
              "      <td>224130</td>\n",
              "      <td>458</td>\n",
              "      <td>梁文音 (Rachel Liang)</td>\n",
              "      <td>Qi Zheng Zhang</td>\n",
              "      <td>NaN</td>\n",
              "      <td>3.0</td>\n",
              "    </tr>\n",
              "    <tr>\n",
              "      <th>...</th>\n",
              "      <td>...</td>\n",
              "      <td>...</td>\n",
              "      <td>...</td>\n",
              "      <td>...</td>\n",
              "      <td>...</td>\n",
              "      <td>...</td>\n",
              "      <td>...</td>\n",
              "      <td>...</td>\n",
              "      <td>...</td>\n",
              "      <td>...</td>\n",
              "      <td>...</td>\n",
              "      <td>...</td>\n",
              "    </tr>\n",
              "    <tr>\n",
              "      <th>2556760</th>\n",
              "      <td>2556424</td>\n",
              "      <td>OxQAwGphun4gWlzqmiMDaAl+HUpRwEhPZ/10PcJrmLw=</td>\n",
              "      <td>tdbPYQsWxuul/G4B0uWHQ4sYgZMVUhJg744xa2EGXD0=</td>\n",
              "      <td>search</td>\n",
              "      <td>Artist more</td>\n",
              "      <td>top-hits-for-artist</td>\n",
              "      <td>233871</td>\n",
              "      <td>2122</td>\n",
              "      <td>Jazz in The Lobby Bar</td>\n",
              "      <td>NaN</td>\n",
              "      <td>NaN</td>\n",
              "      <td>-1.0</td>\n",
              "    </tr>\n",
              "    <tr>\n",
              "      <th>2556761</th>\n",
              "      <td>2556435</td>\n",
              "      <td>EbCnhecwbtc0LgP1yf0ZqZaQ6Xc5189EjbUOWO3uh4k=</td>\n",
              "      <td>JLB8bXKrUEsaBB1e2cDq54PuGEsmIeMTj+AyRt/BnC4=</td>\n",
              "      <td>search</td>\n",
              "      <td>Album more</td>\n",
              "      <td>album</td>\n",
              "      <td>231601</td>\n",
              "      <td>444</td>\n",
              "      <td>MAMAMOO</td>\n",
              "      <td>NaN</td>\n",
              "      <td>NaN</td>\n",
              "      <td>31.0</td>\n",
              "    </tr>\n",
              "    <tr>\n",
              "      <th>2556762</th>\n",
              "      <td>2556440</td>\n",
              "      <td>36Y0h8i5HeSpyRSiCQgcyqeF8cN+B6F6VEbRBlwQdnA=</td>\n",
              "      <td>TLKg+h+NRpYAp+RpbWnBp3yB2B7Fne4uptGcpu3Qk+g=</td>\n",
              "      <td>my library</td>\n",
              "      <td>Local playlist more</td>\n",
              "      <td>local-library</td>\n",
              "      <td>376999</td>\n",
              "      <td>1609</td>\n",
              "      <td>Various Artists (21 hits)</td>\n",
              "      <td>NaN</td>\n",
              "      <td>NaN</td>\n",
              "      <td>-1.0</td>\n",
              "    </tr>\n",
              "    <tr>\n",
              "      <th>2556763</th>\n",
              "      <td>2556577</td>\n",
              "      <td>9jLOPEOH8oEbYQ4qgR1aMvSLwsaObRc19hcDWysSwjI=</td>\n",
              "      <td>D0COZM4CK1DzIsBdlUHKgyLXUUwabWWldOmdyvdgKyU=</td>\n",
              "      <td>my library</td>\n",
              "      <td>Local playlist more</td>\n",
              "      <td>local-library</td>\n",
              "      <td>185945</td>\n",
              "      <td>1259</td>\n",
              "      <td>Machine Gun Kelly</td>\n",
              "      <td>Colson Baker pka \"MGK\" for EST| E. Johnson| B....</td>\n",
              "      <td>NaN</td>\n",
              "      <td>52.0</td>\n",
              "    </tr>\n",
              "    <tr>\n",
              "      <th>2556764</th>\n",
              "      <td>2556602</td>\n",
              "      <td>mH0G4wi0u35/WiS8S7hD+xXzu9puoxl6xAFSsm/1z64=</td>\n",
              "      <td>wsKQkW0bHGi4oeTSOn8KgYvu4ZOSHFLwMn6yL54g3Is=</td>\n",
              "      <td>explore</td>\n",
              "      <td>Online playlist more</td>\n",
              "      <td>online-playlist</td>\n",
              "      <td>265543</td>\n",
              "      <td>465</td>\n",
              "      <td>Beyond</td>\n",
              "      <td>Jia Ju Huang</td>\n",
              "      <td>NaN</td>\n",
              "      <td>24.0</td>\n",
              "    </tr>\n",
              "  </tbody>\n",
              "</table>\n",
              "<p>2556765 rows × 12 columns</p>\n",
              "</div>"
            ],
            "text/plain": [
              "              id                                          msno  \\\n",
              "0              0  V8ruy7SGk7tDm3zA51DPpn6qutt+vmKMBKa21dp54uM=   \n",
              "1           2954  mp5bRgC7VAhEpWlAiOn4jG8CD9FJZt7725f93t5i99M=   \n",
              "2          14420  NSBR1BrOO3XDapGQCMi19nRidHD4qzoEXbGGnBap/e0=   \n",
              "3          17473  kvRxHi514EY2/4FzahC/vBf/Zn13/3ZwXweeepjewzk=   \n",
              "4          32738  Qh0RP1Refm1D6eV5PjusX+agjnNczGUR8eeWBGj3UvU=   \n",
              "...          ...                                           ...   \n",
              "2556760  2556424  OxQAwGphun4gWlzqmiMDaAl+HUpRwEhPZ/10PcJrmLw=   \n",
              "2556761  2556435  EbCnhecwbtc0LgP1yf0ZqZaQ6Xc5189EjbUOWO3uh4k=   \n",
              "2556762  2556440  36Y0h8i5HeSpyRSiCQgcyqeF8cN+B6F6VEbRBlwQdnA=   \n",
              "2556763  2556577  9jLOPEOH8oEbYQ4qgR1aMvSLwsaObRc19hcDWysSwjI=   \n",
              "2556764  2556602  mH0G4wi0u35/WiS8S7hD+xXzu9puoxl6xAFSsm/1z64=   \n",
              "\n",
              "                                              song_id source_system_tab  \\\n",
              "0        WmHKgKMlp1lQMecNdNvDMkvIycZYHnFwDT72I5sIssc=        my library   \n",
              "1        WmHKgKMlp1lQMecNdNvDMkvIycZYHnFwDT72I5sIssc=        my library   \n",
              "2        WmHKgKMlp1lQMecNdNvDMkvIycZYHnFwDT72I5sIssc=        my library   \n",
              "3        WmHKgKMlp1lQMecNdNvDMkvIycZYHnFwDT72I5sIssc=        my library   \n",
              "4        WmHKgKMlp1lQMecNdNvDMkvIycZYHnFwDT72I5sIssc=        my library   \n",
              "...                                               ...               ...   \n",
              "2556760  tdbPYQsWxuul/G4B0uWHQ4sYgZMVUhJg744xa2EGXD0=            search   \n",
              "2556761  JLB8bXKrUEsaBB1e2cDq54PuGEsmIeMTj+AyRt/BnC4=            search   \n",
              "2556762  TLKg+h+NRpYAp+RpbWnBp3yB2B7Fne4uptGcpu3Qk+g=        my library   \n",
              "2556763  D0COZM4CK1DzIsBdlUHKgyLXUUwabWWldOmdyvdgKyU=        my library   \n",
              "2556764  wsKQkW0bHGi4oeTSOn8KgYvu4ZOSHFLwMn6yL54g3Is=           explore   \n",
              "\n",
              "           source_screen_name          source_type  song_length genre_ids  \\\n",
              "0         Local playlist more        local-library       224130       458   \n",
              "1                      Search                 song       224130       458   \n",
              "2         Local playlist more       local-playlist       224130       458   \n",
              "3         Local playlist more       local-playlist       224130       458   \n",
              "4         Local playlist more       local-playlist       224130       458   \n",
              "...                       ...                  ...          ...       ...   \n",
              "2556760           Artist more  top-hits-for-artist       233871      2122   \n",
              "2556761            Album more                album       231601       444   \n",
              "2556762   Local playlist more        local-library       376999      1609   \n",
              "2556763   Local playlist more        local-library       185945      1259   \n",
              "2556764  Online playlist more      online-playlist       265543       465   \n",
              "\n",
              "                       artist_name  \\\n",
              "0               梁文音 (Rachel Liang)   \n",
              "1               梁文音 (Rachel Liang)   \n",
              "2               梁文音 (Rachel Liang)   \n",
              "3               梁文音 (Rachel Liang)   \n",
              "4               梁文音 (Rachel Liang)   \n",
              "...                            ...   \n",
              "2556760      Jazz in The Lobby Bar   \n",
              "2556761                    MAMAMOO   \n",
              "2556762  Various Artists (21 hits)   \n",
              "2556763          Machine Gun Kelly   \n",
              "2556764                     Beyond   \n",
              "\n",
              "                                                  composer lyricist  language  \n",
              "0                                           Qi Zheng Zhang      NaN       3.0  \n",
              "1                                           Qi Zheng Zhang      NaN       3.0  \n",
              "2                                           Qi Zheng Zhang      NaN       3.0  \n",
              "3                                           Qi Zheng Zhang      NaN       3.0  \n",
              "4                                           Qi Zheng Zhang      NaN       3.0  \n",
              "...                                                    ...      ...       ...  \n",
              "2556760                                                NaN      NaN      -1.0  \n",
              "2556761                                                NaN      NaN      31.0  \n",
              "2556762                                                NaN      NaN      -1.0  \n",
              "2556763  Colson Baker pka \"MGK\" for EST| E. Johnson| B....      NaN      52.0  \n",
              "2556764                                       Jia Ju Huang      NaN      24.0  \n",
              "\n",
              "[2556765 rows x 12 columns]"
            ]
          },
          "execution_count": 173,
          "metadata": {},
          "output_type": "execute_result"
        }
      ],
      "source": [
        "df_test = pd.DataFrame(pd.merge(test, songs, on='song_id'))\n",
        "df_test"
      ]
    },
    {
      "cell_type": "code",
      "execution_count": 174,
      "metadata": {
        "id": "bxkdA8f3Q7KS",
        "outputId": "370ac0c6-a59f-42cf-ddd8-cc0ad909eba1"
      },
      "outputs": [
        {
          "name": "stdout",
          "output_type": "stream",
          "text": [
            "<class 'pandas.core.frame.DataFrame'>\n",
            "RangeIndex: 7377304 entries, 0 to 7377303\n",
            "Data columns (total 12 columns):\n",
            " #   Column              Dtype  \n",
            "---  ------              -----  \n",
            " 0   msno                object \n",
            " 1   song_id             object \n",
            " 2   source_system_tab   object \n",
            " 3   source_screen_name  object \n",
            " 4   source_type         object \n",
            " 5   target              int64  \n",
            " 6   song_length         int64  \n",
            " 7   genre_ids           object \n",
            " 8   artist_name         object \n",
            " 9   composer            object \n",
            " 10  lyricist            object \n",
            " 11  language            float64\n",
            "dtypes: float64(1), int64(2), object(9)\n",
            "memory usage: 675.4+ MB\n"
          ]
        }
      ],
      "source": [
        "df.info()"
      ]
    },
    {
      "cell_type": "code",
      "execution_count": 175,
      "metadata": {
        "id": "aHv682mhQ7KT",
        "outputId": "c846863f-361c-41fe-c1a8-63ae25a65c10"
      },
      "outputs": [
        {
          "data": {
            "text/plain": [
              "msno                        0\n",
              "song_id                     0\n",
              "source_system_tab       24849\n",
              "source_screen_name     414796\n",
              "source_type             21539\n",
              "target                      0\n",
              "song_length                 0\n",
              "genre_ids              118341\n",
              "artist_name                 0\n",
              "composer              1675592\n",
              "lyricist              3178698\n",
              "language                   36\n",
              "dtype: int64"
            ]
          },
          "execution_count": 175,
          "metadata": {},
          "output_type": "execute_result"
        }
      ],
      "source": [
        "df.isnull().sum()"
      ]
    },
    {
      "cell_type": "code",
      "execution_count": 176,
      "metadata": {
        "id": "9lZWUl_tQ7KT",
        "outputId": "db4adf83-edab-4619-8e3e-980c35ea9470"
      },
      "outputs": [
        {
          "data": {
            "text/plain": [
              "id                          0\n",
              "msno                        0\n",
              "song_id                     0\n",
              "source_system_tab        8442\n",
              "source_screen_name     162880\n",
              "source_type              7297\n",
              "song_length                 0\n",
              "genre_ids               42085\n",
              "artist_name                 0\n",
              "composer               619279\n",
              "lyricist              1224722\n",
              "language                   17\n",
              "dtype: int64"
            ]
          },
          "execution_count": 176,
          "metadata": {},
          "output_type": "execute_result"
        }
      ],
      "source": [
        "df_test.isnull().sum()"
      ]
    },
    {
      "cell_type": "code",
      "execution_count": 177,
      "metadata": {
        "id": "L7oMjFy4Q7KT",
        "outputId": "8cd96cf9-453a-41af-e82e-6d394973537b"
      },
      "outputs": [
        {
          "data": {
            "text/plain": [
              "msno                   0.000000\n",
              "song_id                0.000000\n",
              "source_system_tab      0.336830\n",
              "source_screen_name     5.622596\n",
              "source_type            0.291963\n",
              "target                 0.000000\n",
              "song_length            0.000000\n",
              "genre_ids              1.604123\n",
              "artist_name            0.000000\n",
              "composer              22.712796\n",
              "lyricist              43.087529\n",
              "language               0.000488\n",
              "dtype: float64"
            ]
          },
          "execution_count": 177,
          "metadata": {},
          "output_type": "execute_result"
        }
      ],
      "source": [
        "df.isnull().mean() * 100"
      ]
    },
    {
      "cell_type": "code",
      "execution_count": 178,
      "metadata": {
        "id": "ynw2S6gdQ7KT",
        "outputId": "b62c90f6-f2b0-4b79-8a06-67409fb7d258"
      },
      "outputs": [
        {
          "data": {
            "text/plain": [
              "id                     0.000000\n",
              "msno                   0.000000\n",
              "song_id                0.000000\n",
              "source_system_tab      0.330183\n",
              "source_screen_name     6.370550\n",
              "source_type            0.285400\n",
              "song_length            0.000000\n",
              "genre_ids              1.646025\n",
              "artist_name            0.000000\n",
              "composer              24.221194\n",
              "lyricist              47.901235\n",
              "language               0.000665\n",
              "dtype: float64"
            ]
          },
          "execution_count": 178,
          "metadata": {},
          "output_type": "execute_result"
        }
      ],
      "source": [
        "df_test.isnull().mean() * 100"
      ]
    },
    {
      "cell_type": "code",
      "execution_count": 179,
      "metadata": {
        "id": "3fCL5GxfQ7KT",
        "outputId": "7ceb557c-149a-4778-d102-d5c4b760141c"
      },
      "outputs": [
        {
          "data": {
            "text/plain": [
              "song_id         0.000000\n",
              "source_type     0.291963\n",
              "target          0.000000\n",
              "genre_ids       1.604123\n",
              "artist_name     0.000000\n",
              "composer       22.712796\n",
              "language        0.000488\n",
              "dtype: float64"
            ]
          },
          "execution_count": 179,
          "metadata": {},
          "output_type": "execute_result"
        }
      ],
      "source": [
        "df = df.drop([\"lyricist\",\"source_screen_name\",\"song_length\",\"msno\",\"source_system_tab\"],axis=1)\n",
        "df.isnull().mean() * 100"
      ]
    },
    {
      "cell_type": "code",
      "execution_count": 180,
      "metadata": {
        "id": "RBaha0VoQ7KT",
        "outputId": "df7d4160-ff4a-43ba-9290-5cb8c4a8e8bb"
      },
      "outputs": [
        {
          "data": {
            "text/plain": [
              "id              0.000000\n",
              "song_id         0.000000\n",
              "source_type     0.285400\n",
              "genre_ids       1.646025\n",
              "artist_name     0.000000\n",
              "composer       24.221194\n",
              "language        0.000665\n",
              "dtype: float64"
            ]
          },
          "execution_count": 180,
          "metadata": {},
          "output_type": "execute_result"
        }
      ],
      "source": [
        "df_test = df_test.drop([\"lyricist\",\"source_screen_name\",\"song_length\",\"msno\",\"source_system_tab\"],axis=1)\n",
        "df_test.isnull().mean() * 100"
      ]
    },
    {
      "cell_type": "code",
      "execution_count": 181,
      "metadata": {
        "id": "jseYSGyLQ7KT",
        "outputId": "ecf5725d-c90a-4afb-d0fc-f792ee108596"
      },
      "outputs": [
        {
          "data": {
            "text/html": [
              "<div>\n",
              "<style scoped>\n",
              "    .dataframe tbody tr th:only-of-type {\n",
              "        vertical-align: middle;\n",
              "    }\n",
              "\n",
              "    .dataframe tbody tr th {\n",
              "        vertical-align: top;\n",
              "    }\n",
              "\n",
              "    .dataframe thead th {\n",
              "        text-align: right;\n",
              "    }\n",
              "</style>\n",
              "<table border=\"1\" class=\"dataframe\">\n",
              "  <thead>\n",
              "    <tr style=\"text-align: right;\">\n",
              "      <th></th>\n",
              "      <th>song_id</th>\n",
              "      <th>source_type</th>\n",
              "      <th>target</th>\n",
              "      <th>genre_ids</th>\n",
              "      <th>artist_name</th>\n",
              "      <th>composer</th>\n",
              "      <th>language</th>\n",
              "    </tr>\n",
              "  </thead>\n",
              "  <tbody>\n",
              "    <tr>\n",
              "      <th>0</th>\n",
              "      <td>BBzumQNXUHKdEBOB7mAJuzok+IJA1c2Ryg/yzTF6tik=</td>\n",
              "      <td>online-playlist</td>\n",
              "      <td>1</td>\n",
              "      <td>359</td>\n",
              "      <td>Bastille</td>\n",
              "      <td>Dan Smith| Mark Crew</td>\n",
              "      <td>52.0</td>\n",
              "    </tr>\n",
              "    <tr>\n",
              "      <th>1</th>\n",
              "      <td>BBzumQNXUHKdEBOB7mAJuzok+IJA1c2Ryg/yzTF6tik=</td>\n",
              "      <td>local-playlist</td>\n",
              "      <td>1</td>\n",
              "      <td>359</td>\n",
              "      <td>Bastille</td>\n",
              "      <td>Dan Smith| Mark Crew</td>\n",
              "      <td>52.0</td>\n",
              "    </tr>\n",
              "    <tr>\n",
              "      <th>2</th>\n",
              "      <td>BBzumQNXUHKdEBOB7mAJuzok+IJA1c2Ryg/yzTF6tik=</td>\n",
              "      <td>online-playlist</td>\n",
              "      <td>0</td>\n",
              "      <td>359</td>\n",
              "      <td>Bastille</td>\n",
              "      <td>Dan Smith| Mark Crew</td>\n",
              "      <td>52.0</td>\n",
              "    </tr>\n",
              "    <tr>\n",
              "      <th>3</th>\n",
              "      <td>BBzumQNXUHKdEBOB7mAJuzok+IJA1c2Ryg/yzTF6tik=</td>\n",
              "      <td>online-playlist</td>\n",
              "      <td>0</td>\n",
              "      <td>359</td>\n",
              "      <td>Bastille</td>\n",
              "      <td>Dan Smith| Mark Crew</td>\n",
              "      <td>52.0</td>\n",
              "    </tr>\n",
              "    <tr>\n",
              "      <th>4</th>\n",
              "      <td>BBzumQNXUHKdEBOB7mAJuzok+IJA1c2Ryg/yzTF6tik=</td>\n",
              "      <td>online-playlist</td>\n",
              "      <td>0</td>\n",
              "      <td>359</td>\n",
              "      <td>Bastille</td>\n",
              "      <td>Dan Smith| Mark Crew</td>\n",
              "      <td>52.0</td>\n",
              "    </tr>\n",
              "  </tbody>\n",
              "</table>\n",
              "</div>"
            ],
            "text/plain": [
              "                                        song_id      source_type  target  \\\n",
              "0  BBzumQNXUHKdEBOB7mAJuzok+IJA1c2Ryg/yzTF6tik=  online-playlist       1   \n",
              "1  BBzumQNXUHKdEBOB7mAJuzok+IJA1c2Ryg/yzTF6tik=   local-playlist       1   \n",
              "2  BBzumQNXUHKdEBOB7mAJuzok+IJA1c2Ryg/yzTF6tik=  online-playlist       0   \n",
              "3  BBzumQNXUHKdEBOB7mAJuzok+IJA1c2Ryg/yzTF6tik=  online-playlist       0   \n",
              "4  BBzumQNXUHKdEBOB7mAJuzok+IJA1c2Ryg/yzTF6tik=  online-playlist       0   \n",
              "\n",
              "  genre_ids artist_name              composer  language  \n",
              "0       359    Bastille  Dan Smith| Mark Crew      52.0  \n",
              "1       359    Bastille  Dan Smith| Mark Crew      52.0  \n",
              "2       359    Bastille  Dan Smith| Mark Crew      52.0  \n",
              "3       359    Bastille  Dan Smith| Mark Crew      52.0  \n",
              "4       359    Bastille  Dan Smith| Mark Crew      52.0  "
            ]
          },
          "execution_count": 181,
          "metadata": {},
          "output_type": "execute_result"
        }
      ],
      "source": [
        "df.head()"
      ]
    },
    {
      "cell_type": "code",
      "execution_count": 182,
      "metadata": {
        "id": "PVwnY_DrQ7KT"
      },
      "outputs": [],
      "source": [
        "df = df.fillna(df.mode().iloc[0])\n",
        "df_test = df_test.fillna(df.mode().iloc[0])"
      ]
    },
    {
      "cell_type": "code",
      "execution_count": 183,
      "metadata": {
        "id": "VzY0-9xVQ7KT",
        "outputId": "9ddf667a-3054-4c1a-b5b3-f30b248fe448"
      },
      "outputs": [
        {
          "data": {
            "text/plain": [
              "song_id        0.0\n",
              "source_type    0.0\n",
              "target         0.0\n",
              "genre_ids      0.0\n",
              "artist_name    0.0\n",
              "composer       0.0\n",
              "language       0.0\n",
              "dtype: float64"
            ]
          },
          "execution_count": 183,
          "metadata": {},
          "output_type": "execute_result"
        }
      ],
      "source": [
        "df.head()\n",
        "df.isnull().mean() * 100"
      ]
    },
    {
      "cell_type": "code",
      "execution_count": 184,
      "metadata": {
        "id": "AGgyDLsDQ7KU",
        "outputId": "a811845c-1437-434b-b82b-827ec1fb7e51"
      },
      "outputs": [
        {
          "data": {
            "text/plain": [
              "id             0.0\n",
              "song_id        0.0\n",
              "source_type    0.0\n",
              "genre_ids      0.0\n",
              "artist_name    0.0\n",
              "composer       0.0\n",
              "language       0.0\n",
              "dtype: float64"
            ]
          },
          "execution_count": 184,
          "metadata": {},
          "output_type": "execute_result"
        }
      ],
      "source": [
        "df_test.isnull().mean() * 100"
      ]
    },
    {
      "cell_type": "markdown",
      "metadata": {
        "id": "hjUORjw7Q7KU"
      },
      "source": [
        "## Label Encoding"
      ]
    },
    {
      "cell_type": "code",
      "execution_count": 185,
      "metadata": {
        "id": "z9IOnOvNQ7KU",
        "outputId": "7fa752db-589e-471f-e789-3d24680c32c0"
      },
      "outputs": [
        {
          "data": {
            "text/html": [
              "<style>#sk-container-id-4 {color: black;}#sk-container-id-4 pre{padding: 0;}#sk-container-id-4 div.sk-toggleable {background-color: white;}#sk-container-id-4 label.sk-toggleable__label {cursor: pointer;display: block;width: 100%;margin-bottom: 0;padding: 0.3em;box-sizing: border-box;text-align: center;}#sk-container-id-4 label.sk-toggleable__label-arrow:before {content: \"▸\";float: left;margin-right: 0.25em;color: #696969;}#sk-container-id-4 label.sk-toggleable__label-arrow:hover:before {color: black;}#sk-container-id-4 div.sk-estimator:hover label.sk-toggleable__label-arrow:before {color: black;}#sk-container-id-4 div.sk-toggleable__content {max-height: 0;max-width: 0;overflow: hidden;text-align: left;background-color: #f0f8ff;}#sk-container-id-4 div.sk-toggleable__content pre {margin: 0.2em;color: black;border-radius: 0.25em;background-color: #f0f8ff;}#sk-container-id-4 input.sk-toggleable__control:checked~div.sk-toggleable__content {max-height: 200px;max-width: 100%;overflow: auto;}#sk-container-id-4 input.sk-toggleable__control:checked~label.sk-toggleable__label-arrow:before {content: \"▾\";}#sk-container-id-4 div.sk-estimator input.sk-toggleable__control:checked~label.sk-toggleable__label {background-color: #d4ebff;}#sk-container-id-4 div.sk-label input.sk-toggleable__control:checked~label.sk-toggleable__label {background-color: #d4ebff;}#sk-container-id-4 input.sk-hidden--visually {border: 0;clip: rect(1px 1px 1px 1px);clip: rect(1px, 1px, 1px, 1px);height: 1px;margin: -1px;overflow: hidden;padding: 0;position: absolute;width: 1px;}#sk-container-id-4 div.sk-estimator {font-family: monospace;background-color: #f0f8ff;border: 1px dotted black;border-radius: 0.25em;box-sizing: border-box;margin-bottom: 0.5em;}#sk-container-id-4 div.sk-estimator:hover {background-color: #d4ebff;}#sk-container-id-4 div.sk-parallel-item::after {content: \"\";width: 100%;border-bottom: 1px solid gray;flex-grow: 1;}#sk-container-id-4 div.sk-label:hover label.sk-toggleable__label {background-color: #d4ebff;}#sk-container-id-4 div.sk-serial::before {content: \"\";position: absolute;border-left: 1px solid gray;box-sizing: border-box;top: 0;bottom: 0;left: 50%;z-index: 0;}#sk-container-id-4 div.sk-serial {display: flex;flex-direction: column;align-items: center;background-color: white;padding-right: 0.2em;padding-left: 0.2em;position: relative;}#sk-container-id-4 div.sk-item {position: relative;z-index: 1;}#sk-container-id-4 div.sk-parallel {display: flex;align-items: stretch;justify-content: center;background-color: white;position: relative;}#sk-container-id-4 div.sk-item::before, #sk-container-id-4 div.sk-parallel-item::before {content: \"\";position: absolute;border-left: 1px solid gray;box-sizing: border-box;top: 0;bottom: 0;left: 50%;z-index: -1;}#sk-container-id-4 div.sk-parallel-item {display: flex;flex-direction: column;z-index: 1;position: relative;background-color: white;}#sk-container-id-4 div.sk-parallel-item:first-child::after {align-self: flex-end;width: 50%;}#sk-container-id-4 div.sk-parallel-item:last-child::after {align-self: flex-start;width: 50%;}#sk-container-id-4 div.sk-parallel-item:only-child::after {width: 0;}#sk-container-id-4 div.sk-dashed-wrapped {border: 1px dashed gray;margin: 0 0.4em 0.5em 0.4em;box-sizing: border-box;padding-bottom: 0.4em;background-color: white;}#sk-container-id-4 div.sk-label label {font-family: monospace;font-weight: bold;display: inline-block;line-height: 1.2em;}#sk-container-id-4 div.sk-label-container {text-align: center;}#sk-container-id-4 div.sk-container {/* jupyter's `normalize.less` sets `[hidden] { display: none; }` but bootstrap.min.css set `[hidden] { display: none !important; }` so we also need the `!important` here to be able to override the default hidden behavior on the sphinx rendered scikit-learn.org. See: https://github.com/scikit-learn/scikit-learn/issues/21755 */display: inline-block !important;position: relative;}#sk-container-id-4 div.sk-text-repr-fallback {display: none;}</style><div id=\"sk-container-id-4\" class=\"sk-top-container\"><div class=\"sk-text-repr-fallback\"><pre>LabelEncoder()</pre><b>In a Jupyter environment, please rerun this cell to show the HTML representation or trust the notebook. <br />On GitHub, the HTML representation is unable to render, please try loading this page with nbviewer.org.</b></div><div class=\"sk-container\" hidden><div class=\"sk-item\"><div class=\"sk-estimator sk-toggleable\"><input class=\"sk-toggleable__control sk-hidden--visually\" id=\"sk-estimator-id-4\" type=\"checkbox\" checked><label for=\"sk-estimator-id-4\" class=\"sk-toggleable__label sk-toggleable__label-arrow\">LabelEncoder</label><div class=\"sk-toggleable__content\"><pre>LabelEncoder()</pre></div></div></div></div></div>"
            ],
            "text/plain": [
              "LabelEncoder()"
            ]
          },
          "execution_count": 185,
          "metadata": {},
          "output_type": "execute_result"
        }
      ],
      "source": [
        "from sklearn.preprocessing import LabelEncoder\n",
        "label_encoder = LabelEncoder()\n",
        "\n",
        "#label_encoder.fit(df['msno'])\n",
        "label_encoder.fit(df['song_id'])\n",
        "#label_encoder.fit(df['source_system_tab'])\n",
        "#label_encoder.fit(df['source_screen_name'])\n",
        "label_encoder.fit(df['source_type'])\n",
        "label_encoder.fit(df['artist_name'])\n",
        "label_encoder.fit(df['composer'])\n",
        "\n"
      ]
    },
    {
      "cell_type": "code",
      "execution_count": 186,
      "metadata": {
        "id": "5I_Aazv0Q7KU",
        "outputId": "cf66981e-af41-48db-eb07-841a514d07f5"
      },
      "outputs": [
        {
          "data": {
            "text/html": [
              "<div>\n",
              "<style scoped>\n",
              "    .dataframe tbody tr th:only-of-type {\n",
              "        vertical-align: middle;\n",
              "    }\n",
              "\n",
              "    .dataframe tbody tr th {\n",
              "        vertical-align: top;\n",
              "    }\n",
              "\n",
              "    .dataframe thead th {\n",
              "        text-align: right;\n",
              "    }\n",
              "</style>\n",
              "<table border=\"1\" class=\"dataframe\">\n",
              "  <thead>\n",
              "    <tr style=\"text-align: right;\">\n",
              "      <th></th>\n",
              "      <th>song_id</th>\n",
              "      <th>source_type</th>\n",
              "      <th>target</th>\n",
              "      <th>genre_ids</th>\n",
              "      <th>artist_name</th>\n",
              "      <th>composer</th>\n",
              "      <th>language</th>\n",
              "    </tr>\n",
              "  </thead>\n",
              "  <tbody>\n",
              "    <tr>\n",
              "      <th>0</th>\n",
              "      <td>74668</td>\n",
              "      <td>6</td>\n",
              "      <td>1</td>\n",
              "      <td>359</td>\n",
              "      <td>3277</td>\n",
              "      <td>14581</td>\n",
              "      <td>52.0</td>\n",
              "    </tr>\n",
              "    <tr>\n",
              "      <th>1</th>\n",
              "      <td>74668</td>\n",
              "      <td>4</td>\n",
              "      <td>1</td>\n",
              "      <td>359</td>\n",
              "      <td>3277</td>\n",
              "      <td>14581</td>\n",
              "      <td>52.0</td>\n",
              "    </tr>\n",
              "    <tr>\n",
              "      <th>2</th>\n",
              "      <td>74668</td>\n",
              "      <td>6</td>\n",
              "      <td>0</td>\n",
              "      <td>359</td>\n",
              "      <td>3277</td>\n",
              "      <td>14581</td>\n",
              "      <td>52.0</td>\n",
              "    </tr>\n",
              "    <tr>\n",
              "      <th>3</th>\n",
              "      <td>74668</td>\n",
              "      <td>6</td>\n",
              "      <td>0</td>\n",
              "      <td>359</td>\n",
              "      <td>3277</td>\n",
              "      <td>14581</td>\n",
              "      <td>52.0</td>\n",
              "    </tr>\n",
              "    <tr>\n",
              "      <th>4</th>\n",
              "      <td>74668</td>\n",
              "      <td>6</td>\n",
              "      <td>0</td>\n",
              "      <td>359</td>\n",
              "      <td>3277</td>\n",
              "      <td>14581</td>\n",
              "      <td>52.0</td>\n",
              "    </tr>\n",
              "    <tr>\n",
              "      <th>...</th>\n",
              "      <td>...</td>\n",
              "      <td>...</td>\n",
              "      <td>...</td>\n",
              "      <td>...</td>\n",
              "      <td>...</td>\n",
              "      <td>...</td>\n",
              "      <td>...</td>\n",
              "    </tr>\n",
              "    <tr>\n",
              "      <th>7377299</th>\n",
              "      <td>100330</td>\n",
              "      <td>0</td>\n",
              "      <td>0</td>\n",
              "      <td>2079</td>\n",
              "      <td>5368</td>\n",
              "      <td>10631</td>\n",
              "      <td>52.0</td>\n",
              "    </tr>\n",
              "    <tr>\n",
              "      <th>7377300</th>\n",
              "      <td>309331</td>\n",
              "      <td>0</td>\n",
              "      <td>0</td>\n",
              "      <td>2079</td>\n",
              "      <td>5368</td>\n",
              "      <td>10631</td>\n",
              "      <td>52.0</td>\n",
              "    </tr>\n",
              "    <tr>\n",
              "      <th>7377301</th>\n",
              "      <td>172171</td>\n",
              "      <td>6</td>\n",
              "      <td>0</td>\n",
              "      <td>958</td>\n",
              "      <td>10610</td>\n",
              "      <td>61821</td>\n",
              "      <td>-1.0</td>\n",
              "    </tr>\n",
              "    <tr>\n",
              "      <th>7377302</th>\n",
              "      <td>50947</td>\n",
              "      <td>9</td>\n",
              "      <td>1</td>\n",
              "      <td>465</td>\n",
              "      <td>25747</td>\n",
              "      <td>67155</td>\n",
              "      <td>52.0</td>\n",
              "    </tr>\n",
              "    <tr>\n",
              "      <th>7377303</th>\n",
              "      <td>193172</td>\n",
              "      <td>8</td>\n",
              "      <td>0</td>\n",
              "      <td>1609|947</td>\n",
              "      <td>38960</td>\n",
              "      <td>57420</td>\n",
              "      <td>52.0</td>\n",
              "    </tr>\n",
              "  </tbody>\n",
              "</table>\n",
              "<p>7377304 rows × 7 columns</p>\n",
              "</div>"
            ],
            "text/plain": [
              "         song_id  source_type  target genre_ids  artist_name  composer  \\\n",
              "0          74668            6       1       359         3277     14581   \n",
              "1          74668            4       1       359         3277     14581   \n",
              "2          74668            6       0       359         3277     14581   \n",
              "3          74668            6       0       359         3277     14581   \n",
              "4          74668            6       0       359         3277     14581   \n",
              "...          ...          ...     ...       ...          ...       ...   \n",
              "7377299   100330            0       0      2079         5368     10631   \n",
              "7377300   309331            0       0      2079         5368     10631   \n",
              "7377301   172171            6       0       958        10610     61821   \n",
              "7377302    50947            9       1       465        25747     67155   \n",
              "7377303   193172            8       0  1609|947        38960     57420   \n",
              "\n",
              "         language  \n",
              "0            52.0  \n",
              "1            52.0  \n",
              "2            52.0  \n",
              "3            52.0  \n",
              "4            52.0  \n",
              "...           ...  \n",
              "7377299      52.0  \n",
              "7377300      52.0  \n",
              "7377301      -1.0  \n",
              "7377302      52.0  \n",
              "7377303      52.0  \n",
              "\n",
              "[7377304 rows x 7 columns]"
            ]
          },
          "execution_count": 186,
          "metadata": {},
          "output_type": "execute_result"
        }
      ],
      "source": [
        "#df['msno'] = label_encoder.fit_transform(df['msno'])\n",
        "df['song_id'] = label_encoder.fit_transform(df['song_id'])\n",
        "#df['source_system_tab'] = label_encoder.fit_transform(df['source_system_tab'])\n",
        "#df['source_screen_name'] = label_encoder.fit_transform(df['source_screen_name'])\n",
        "df['source_type'] = label_encoder.fit_transform(df['source_type'])\n",
        "df['artist_name'] = label_encoder.fit_transform(df['artist_name'])\n",
        "df['composer'] = label_encoder.fit_transform(df['composer'])\n",
        "df"
      ]
    },
    {
      "cell_type": "code",
      "execution_count": 187,
      "metadata": {
        "id": "axrp8YLHQ7KU"
      },
      "outputs": [],
      "source": [
        "#df_test['msno'] = label_encoder.fit_transform(df_test['msno'])\n",
        "df_test['song_id'] = label_encoder.fit_transform(df_test['song_id'])\n",
        "#df_test['source_system_tab'] = label_encoder.fit_transform(df_test['source_system_tab'])\n",
        "#df_test['source_screen_name'] = label_encoder.fit_transform(df_test['source_screen_name'])\n",
        "df_test['source_type'] = label_encoder.fit_transform(df_test['source_type'])\n",
        "df_test['artist_name'] = label_encoder.fit_transform(df_test['artist_name'])\n",
        "df_test['composer'] = label_encoder.fit_transform(df_test['composer'])"
      ]
    },
    {
      "cell_type": "markdown",
      "metadata": {
        "id": "_p8eLKMUQ7KU"
      },
      "source": [
        "## Model training"
      ]
    },
    {
      "cell_type": "code",
      "execution_count": 238,
      "metadata": {
        "id": "tZsipJPVQ7KU"
      },
      "outputs": [],
      "source": [
        "X = df.drop([\"target\"],axis=1)\n",
        "y= df[\"target\"]"
      ]
    },
    {
      "cell_type": "code",
      "execution_count": 189,
      "metadata": {
        "id": "-CobdJZRQ7KU"
      },
      "outputs": [],
      "source": [
        "#X = X.iloc[:59010000]"
      ]
    },
    {
      "cell_type": "code",
      "execution_count": null,
      "metadata": {
        "id": "mdw-o9r1Q7KU",
        "outputId": "8c65b682-f1e2-4a60-8e7f-0a8d52beec7a"
      },
      "outputs": [],
      "source": [
        "import numpy as np\n",
        "def split_and_convert(s):\n",
        "    parts = s.split('|')\n",
        "    numbers = [int(part) for part in parts]\n",
        "    numbers = np.int64(numbers[0])\n",
        "    return numbers\n",
        "\n",
        "X['genre_ids'] = X['genre_ids'].apply(split_and_convert)\n",
        "X.info()"
      ]
    },
    {
      "cell_type": "code",
      "execution_count": 191,
      "metadata": {
        "id": "vuqa7nw9Q7KV",
        "outputId": "c09fb8a6-9e4e-4c6c-ab54-4d64a512c625"
      },
      "outputs": [
        {
          "data": {
            "text/html": [
              "<div>\n",
              "<style scoped>\n",
              "    .dataframe tbody tr th:only-of-type {\n",
              "        vertical-align: middle;\n",
              "    }\n",
              "\n",
              "    .dataframe tbody tr th {\n",
              "        vertical-align: top;\n",
              "    }\n",
              "\n",
              "    .dataframe thead th {\n",
              "        text-align: right;\n",
              "    }\n",
              "</style>\n",
              "<table border=\"1\" class=\"dataframe\">\n",
              "  <thead>\n",
              "    <tr style=\"text-align: right;\">\n",
              "      <th></th>\n",
              "      <th>song_id</th>\n",
              "      <th>source_type</th>\n",
              "      <th>genre_ids</th>\n",
              "      <th>artist_name</th>\n",
              "      <th>composer</th>\n",
              "      <th>language</th>\n",
              "    </tr>\n",
              "  </thead>\n",
              "  <tbody>\n",
              "    <tr>\n",
              "      <th>0</th>\n",
              "      <td>74668</td>\n",
              "      <td>6</td>\n",
              "      <td>359</td>\n",
              "      <td>3277</td>\n",
              "      <td>14581</td>\n",
              "      <td>52.0</td>\n",
              "    </tr>\n",
              "    <tr>\n",
              "      <th>1</th>\n",
              "      <td>74668</td>\n",
              "      <td>4</td>\n",
              "      <td>359</td>\n",
              "      <td>3277</td>\n",
              "      <td>14581</td>\n",
              "      <td>52.0</td>\n",
              "    </tr>\n",
              "    <tr>\n",
              "      <th>2</th>\n",
              "      <td>74668</td>\n",
              "      <td>6</td>\n",
              "      <td>359</td>\n",
              "      <td>3277</td>\n",
              "      <td>14581</td>\n",
              "      <td>52.0</td>\n",
              "    </tr>\n",
              "    <tr>\n",
              "      <th>3</th>\n",
              "      <td>74668</td>\n",
              "      <td>6</td>\n",
              "      <td>359</td>\n",
              "      <td>3277</td>\n",
              "      <td>14581</td>\n",
              "      <td>52.0</td>\n",
              "    </tr>\n",
              "    <tr>\n",
              "      <th>4</th>\n",
              "      <td>74668</td>\n",
              "      <td>6</td>\n",
              "      <td>359</td>\n",
              "      <td>3277</td>\n",
              "      <td>14581</td>\n",
              "      <td>52.0</td>\n",
              "    </tr>\n",
              "    <tr>\n",
              "      <th>...</th>\n",
              "      <td>...</td>\n",
              "      <td>...</td>\n",
              "      <td>...</td>\n",
              "      <td>...</td>\n",
              "      <td>...</td>\n",
              "      <td>...</td>\n",
              "    </tr>\n",
              "    <tr>\n",
              "      <th>7377299</th>\n",
              "      <td>100330</td>\n",
              "      <td>0</td>\n",
              "      <td>2079</td>\n",
              "      <td>5368</td>\n",
              "      <td>10631</td>\n",
              "      <td>52.0</td>\n",
              "    </tr>\n",
              "    <tr>\n",
              "      <th>7377300</th>\n",
              "      <td>309331</td>\n",
              "      <td>0</td>\n",
              "      <td>2079</td>\n",
              "      <td>5368</td>\n",
              "      <td>10631</td>\n",
              "      <td>52.0</td>\n",
              "    </tr>\n",
              "    <tr>\n",
              "      <th>7377301</th>\n",
              "      <td>172171</td>\n",
              "      <td>6</td>\n",
              "      <td>958</td>\n",
              "      <td>10610</td>\n",
              "      <td>61821</td>\n",
              "      <td>-1.0</td>\n",
              "    </tr>\n",
              "    <tr>\n",
              "      <th>7377302</th>\n",
              "      <td>50947</td>\n",
              "      <td>9</td>\n",
              "      <td>465</td>\n",
              "      <td>25747</td>\n",
              "      <td>67155</td>\n",
              "      <td>52.0</td>\n",
              "    </tr>\n",
              "    <tr>\n",
              "      <th>7377303</th>\n",
              "      <td>193172</td>\n",
              "      <td>8</td>\n",
              "      <td>1609</td>\n",
              "      <td>38960</td>\n",
              "      <td>57420</td>\n",
              "      <td>52.0</td>\n",
              "    </tr>\n",
              "  </tbody>\n",
              "</table>\n",
              "<p>7377304 rows × 6 columns</p>\n",
              "</div>"
            ],
            "text/plain": [
              "         song_id  source_type  genre_ids  artist_name  composer  language\n",
              "0          74668            6        359         3277     14581      52.0\n",
              "1          74668            4        359         3277     14581      52.0\n",
              "2          74668            6        359         3277     14581      52.0\n",
              "3          74668            6        359         3277     14581      52.0\n",
              "4          74668            6        359         3277     14581      52.0\n",
              "...          ...          ...        ...          ...       ...       ...\n",
              "7377299   100330            0       2079         5368     10631      52.0\n",
              "7377300   309331            0       2079         5368     10631      52.0\n",
              "7377301   172171            6        958        10610     61821      -1.0\n",
              "7377302    50947            9        465        25747     67155      52.0\n",
              "7377303   193172            8       1609        38960     57420      52.0\n",
              "\n",
              "[7377304 rows x 6 columns]"
            ]
          },
          "execution_count": 191,
          "metadata": {},
          "output_type": "execute_result"
        }
      ],
      "source": [
        "X"
      ]
    },
    {
      "cell_type": "code",
      "execution_count": 198,
      "metadata": {},
      "outputs": [
        {
          "data": {
            "text/plain": [
              "array([1, 0], dtype=int64)"
            ]
          },
          "execution_count": 198,
          "metadata": {},
          "output_type": "execute_result"
        }
      ],
      "source": [
        "y.unique()"
      ]
    },
    {
      "cell_type": "code",
      "execution_count": 192,
      "metadata": {
        "id": "xXhKVEe7Q7KV",
        "outputId": "bd91fff5-e78e-4fd3-8706-0445b4e5a8f4"
      },
      "outputs": [
        {
          "data": {
            "text/plain": [
              "0          1\n",
              "1          1\n",
              "2          0\n",
              "3          0\n",
              "4          0\n",
              "          ..\n",
              "7377299    0\n",
              "7377300    0\n",
              "7377301    0\n",
              "7377302    1\n",
              "7377303    0\n",
              "Name: target, Length: 7377304, dtype: int64"
            ]
          },
          "execution_count": 192,
          "metadata": {},
          "output_type": "execute_result"
        }
      ],
      "source": [
        "y"
      ]
    },
    {
      "cell_type": "code",
      "execution_count": 193,
      "metadata": {},
      "outputs": [],
      "source": [
        "from sklearn.model_selection import train_test_split\n",
        "\n",
        "# Split the data into training and testing sets\n",
        "X_train, X_test, y_train, y_test = train_test_split(X, y, test_size=0.2)\n"
      ]
    },
    {
      "cell_type": "code",
      "execution_count": 194,
      "metadata": {
        "id": "u_EHoKKhQ7KV"
      },
      "outputs": [],
      "source": [
        "import tensorflow as tf\n",
        "from tensorflow.keras.models import Sequential\n",
        "from tensorflow.keras.layers import Dense, BatchNormalization, Dropout\n",
        "from keras import regularizers\n"
      ]
    },
    {
      "cell_type": "code",
      "execution_count": 205,
      "metadata": {
        "id": "h62XEnAAQ7KV"
      },
      "outputs": [],
      "source": [
        "\n",
        "model = Sequential()\n",
        "model.add(Dense(6, activation='relu', input_dim=6))\n",
        "model.add(Dense(450, activation='relu',kernel_regularizer=regularizers.l1(0.02)))\n",
        "model.add(BatchNormalization())\n",
        "model.add(Dropout(0.2))\n",
        "model.add(Dense(150, activation='relu'))\n",
        "model.add(Dense(320, activation='relu',kernel_regularizer=regularizers.l1(0.02)))\n",
        "model.add(BatchNormalization())\n",
        "model.add(Dense(350, activation='relu'))\n",
        "model.add(Dropout(0.2))\n",
        "model.add(Dense(450, activation='relu',kernel_regularizer=regularizers.l1(0.02)))\n",
        "model.add(Dense(150, activation='relu'))\n",
        "model.add(BatchNormalization())\n",
        "model.add(Dropout(0.2))\n",
        "model.add(Dense(350, activation='relu'))\n",
        "model.add(Dense(1, activation='sigmoid'))\n"
      ]
    },
    {
      "cell_type": "code",
      "execution_count": 206,
      "metadata": {
        "id": "pWmBwYuGQ7KV"
      },
      "outputs": [],
      "source": [
        "model.compile(loss='binary_crossentropy',\n",
        "              optimizer='adam',\n",
        "              metrics=['accuracy'])"
      ]
    },
    {
      "cell_type": "code",
      "execution_count": 240,
      "metadata": {
        "id": "4tLiCjgBQ7KV",
        "outputId": "bf0b4af7-3de0-49bf-8f51-a58127ac6f7c"
      },
      "outputs": [
        {
          "name": "stdout",
          "output_type": "stream",
          "text": [
            "Epoch 1/20\n",
            "3000/3000 [==============================] - 40s 13ms/step - loss: 1.1722 - accuracy: 0.5008\n",
            "Epoch 2/20\n",
            "3000/3000 [==============================] - 38s 13ms/step - loss: 1.1722 - accuracy: 0.5037\n",
            "Epoch 3/20\n",
            "3000/3000 [==============================] - 38s 13ms/step - loss: 1.1722 - accuracy: 0.5017\n",
            "Epoch 4/20\n",
            "3000/3000 [==============================] - 37s 12ms/step - loss: 1.1722 - accuracy: 0.5004\n",
            "Epoch 5/20\n",
            "3000/3000 [==============================] - 37s 12ms/step - loss: 1.1721 - accuracy: 0.5026\n",
            "Epoch 6/20\n",
            "3000/3000 [==============================] - 37s 12ms/step - loss: 1.1721 - accuracy: 0.5027\n",
            "Epoch 7/20\n",
            "3000/3000 [==============================] - 37s 12ms/step - loss: 1.1721 - accuracy: 0.5033\n",
            "Epoch 8/20\n",
            "3000/3000 [==============================] - 38s 13ms/step - loss: 1.1720 - accuracy: 0.5025\n",
            "Epoch 9/20\n",
            "3000/3000 [==============================] - 49s 16ms/step - loss: 1.1720 - accuracy: 0.5033\n",
            "Epoch 10/20\n",
            "3000/3000 [==============================] - 43s 14ms/step - loss: 1.1719 - accuracy: 0.5016\n",
            "Epoch 11/20\n",
            "3000/3000 [==============================] - 44s 15ms/step - loss: 1.1719 - accuracy: 0.5019\n",
            "Epoch 12/20\n",
            "3000/3000 [==============================] - 43s 14ms/step - loss: 1.1719 - accuracy: 0.5030\n",
            "Epoch 13/20\n",
            "3000/3000 [==============================] - 44s 15ms/step - loss: 1.1719 - accuracy: 0.5027\n",
            "Epoch 14/20\n",
            "3000/3000 [==============================] - 44s 15ms/step - loss: 1.1718 - accuracy: 0.5044\n",
            "Epoch 15/20\n",
            "3000/3000 [==============================] - 40s 13ms/step - loss: 1.1718 - accuracy: 0.5021\n",
            "Epoch 16/20\n",
            "3000/3000 [==============================] - 39s 13ms/step - loss: 1.1721 - accuracy: 0.5038\n",
            "Epoch 17/20\n",
            "3000/3000 [==============================] - 39s 13ms/step - loss: 1.1721 - accuracy: 0.5051\n",
            "Epoch 18/20\n",
            "3000/3000 [==============================] - 39s 13ms/step - loss: 1.1719 - accuracy: 0.5008\n",
            "Epoch 19/20\n",
            "3000/3000 [==============================] - 39s 13ms/step - loss: 1.1736 - accuracy: 0.5028\n",
            "Epoch 20/20\n",
            "3000/3000 [==============================] - 39s 13ms/step - loss: 1.1709 - accuracy: 0.5019\n"
          ]
        },
        {
          "data": {
            "text/plain": [
              "<keras.src.callbacks.History at 0x1d8598d7210>"
            ]
          },
          "execution_count": 240,
          "metadata": {},
          "output_type": "execute_result"
        }
      ],
      "source": [
        "model.fit(X, y, epochs=20, batch_size=64,steps_per_epoch=3000)"
      ]
    },
    {
      "cell_type": "code",
      "execution_count": null,
      "metadata": {},
      "outputs": [],
      "source": []
    },
    {
      "cell_type": "code",
      "execution_count": 211,
      "metadata": {},
      "outputs": [],
      "source": [
        "from sklearn.linear_model import LogisticRegression\n",
        "logreg = LogisticRegression()"
      ]
    },
    {
      "cell_type": "code",
      "execution_count": 213,
      "metadata": {},
      "outputs": [
        {
          "data": {
            "text/html": [
              "<style>#sk-container-id-5 {color: black;}#sk-container-id-5 pre{padding: 0;}#sk-container-id-5 div.sk-toggleable {background-color: white;}#sk-container-id-5 label.sk-toggleable__label {cursor: pointer;display: block;width: 100%;margin-bottom: 0;padding: 0.3em;box-sizing: border-box;text-align: center;}#sk-container-id-5 label.sk-toggleable__label-arrow:before {content: \"▸\";float: left;margin-right: 0.25em;color: #696969;}#sk-container-id-5 label.sk-toggleable__label-arrow:hover:before {color: black;}#sk-container-id-5 div.sk-estimator:hover label.sk-toggleable__label-arrow:before {color: black;}#sk-container-id-5 div.sk-toggleable__content {max-height: 0;max-width: 0;overflow: hidden;text-align: left;background-color: #f0f8ff;}#sk-container-id-5 div.sk-toggleable__content pre {margin: 0.2em;color: black;border-radius: 0.25em;background-color: #f0f8ff;}#sk-container-id-5 input.sk-toggleable__control:checked~div.sk-toggleable__content {max-height: 200px;max-width: 100%;overflow: auto;}#sk-container-id-5 input.sk-toggleable__control:checked~label.sk-toggleable__label-arrow:before {content: \"▾\";}#sk-container-id-5 div.sk-estimator input.sk-toggleable__control:checked~label.sk-toggleable__label {background-color: #d4ebff;}#sk-container-id-5 div.sk-label input.sk-toggleable__control:checked~label.sk-toggleable__label {background-color: #d4ebff;}#sk-container-id-5 input.sk-hidden--visually {border: 0;clip: rect(1px 1px 1px 1px);clip: rect(1px, 1px, 1px, 1px);height: 1px;margin: -1px;overflow: hidden;padding: 0;position: absolute;width: 1px;}#sk-container-id-5 div.sk-estimator {font-family: monospace;background-color: #f0f8ff;border: 1px dotted black;border-radius: 0.25em;box-sizing: border-box;margin-bottom: 0.5em;}#sk-container-id-5 div.sk-estimator:hover {background-color: #d4ebff;}#sk-container-id-5 div.sk-parallel-item::after {content: \"\";width: 100%;border-bottom: 1px solid gray;flex-grow: 1;}#sk-container-id-5 div.sk-label:hover label.sk-toggleable__label {background-color: #d4ebff;}#sk-container-id-5 div.sk-serial::before {content: \"\";position: absolute;border-left: 1px solid gray;box-sizing: border-box;top: 0;bottom: 0;left: 50%;z-index: 0;}#sk-container-id-5 div.sk-serial {display: flex;flex-direction: column;align-items: center;background-color: white;padding-right: 0.2em;padding-left: 0.2em;position: relative;}#sk-container-id-5 div.sk-item {position: relative;z-index: 1;}#sk-container-id-5 div.sk-parallel {display: flex;align-items: stretch;justify-content: center;background-color: white;position: relative;}#sk-container-id-5 div.sk-item::before, #sk-container-id-5 div.sk-parallel-item::before {content: \"\";position: absolute;border-left: 1px solid gray;box-sizing: border-box;top: 0;bottom: 0;left: 50%;z-index: -1;}#sk-container-id-5 div.sk-parallel-item {display: flex;flex-direction: column;z-index: 1;position: relative;background-color: white;}#sk-container-id-5 div.sk-parallel-item:first-child::after {align-self: flex-end;width: 50%;}#sk-container-id-5 div.sk-parallel-item:last-child::after {align-self: flex-start;width: 50%;}#sk-container-id-5 div.sk-parallel-item:only-child::after {width: 0;}#sk-container-id-5 div.sk-dashed-wrapped {border: 1px dashed gray;margin: 0 0.4em 0.5em 0.4em;box-sizing: border-box;padding-bottom: 0.4em;background-color: white;}#sk-container-id-5 div.sk-label label {font-family: monospace;font-weight: bold;display: inline-block;line-height: 1.2em;}#sk-container-id-5 div.sk-label-container {text-align: center;}#sk-container-id-5 div.sk-container {/* jupyter's `normalize.less` sets `[hidden] { display: none; }` but bootstrap.min.css set `[hidden] { display: none !important; }` so we also need the `!important` here to be able to override the default hidden behavior on the sphinx rendered scikit-learn.org. See: https://github.com/scikit-learn/scikit-learn/issues/21755 */display: inline-block !important;position: relative;}#sk-container-id-5 div.sk-text-repr-fallback {display: none;}</style><div id=\"sk-container-id-5\" class=\"sk-top-container\"><div class=\"sk-text-repr-fallback\"><pre>LogisticRegression()</pre><b>In a Jupyter environment, please rerun this cell to show the HTML representation or trust the notebook. <br />On GitHub, the HTML representation is unable to render, please try loading this page with nbviewer.org.</b></div><div class=\"sk-container\" hidden><div class=\"sk-item\"><div class=\"sk-estimator sk-toggleable\"><input class=\"sk-toggleable__control sk-hidden--visually\" id=\"sk-estimator-id-5\" type=\"checkbox\" checked><label for=\"sk-estimator-id-5\" class=\"sk-toggleable__label sk-toggleable__label-arrow\">LogisticRegression</label><div class=\"sk-toggleable__content\"><pre>LogisticRegression()</pre></div></div></div></div></div>"
            ],
            "text/plain": [
              "LogisticRegression()"
            ]
          },
          "execution_count": 213,
          "metadata": {},
          "output_type": "execute_result"
        }
      ],
      "source": [
        "logreg.fit(X_train, y_train)\n"
      ]
    },
    {
      "cell_type": "code",
      "execution_count": 214,
      "metadata": {},
      "outputs": [
        {
          "name": "stdout",
          "output_type": "stream",
          "text": [
            "Accuracy: 0.51\n"
          ]
        }
      ],
      "source": [
        "y_pred = logreg.predict(X_test)\n",
        "accuracy = logreg.score(X_test, y_test)\n",
        "print(f'Accuracy: {accuracy:.2f}')"
      ]
    },
    {
      "cell_type": "code",
      "execution_count": null,
      "metadata": {},
      "outputs": [],
      "source": []
    }
  ],
  "metadata": {
    "colab": {
      "provenance": []
    },
    "kernelspec": {
      "display_name": "tensorflow",
      "language": "python",
      "name": "python3"
    },
    "language_info": {
      "codemirror_mode": {
        "name": "ipython",
        "version": 3
      },
      "file_extension": ".py",
      "mimetype": "text/x-python",
      "name": "python",
      "nbconvert_exporter": "python",
      "pygments_lexer": "ipython3",
      "version": "3.11.5"
    },
    "orig_nbformat": 4
  },
  "nbformat": 4,
  "nbformat_minor": 0
}
